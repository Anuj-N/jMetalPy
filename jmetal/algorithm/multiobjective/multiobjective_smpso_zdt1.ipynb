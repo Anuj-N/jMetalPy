{
 "cells": [
  {
   "cell_type": "code",
   "execution_count": 1,
   "metadata": {},
   "outputs": [],
   "source": [
    "from jmetal.algorithm.multiobjective.gde3 import GDE3\n",
    "from jmetal.algorithm.multiobjective.nsgaii import NSGAII\n",
    "from jmetal.algorithm.multiobjective.smpso import SMPSO\n",
    "from jmetal.core.quality_indicator import *\n",
    "from jmetal.lab.experiment import Experiment, Job, generate_summary_from_experiment\n",
    "from jmetal.operator import PolynomialMutation, SBXCrossover\n",
    "from jmetal.problem import ZDT1, ZDT2, ZDT3\n",
    "from jmetal.util.archive import CrowdingDistanceArchive\n",
    "from jmetal.util.termination_criterion import StoppingByEvaluations\n",
    "from jmetal.lab.experiment import generate_boxplot, generate_latex_tables, compute_mean_indicator, compute_wilcoxon\n",
    "from jmetal.lab.statistical_test.bayesian import *\n",
    "from jmetal.lab.statistical_test.functions import *\n",
    "from jmetal.lab.visualization import CDplot, plot_posterior\n",
    "from jmetal.algorithm.multiobjective import NSGAII\n",
    "from jmetal.operator import SBXCrossover, PolynomialMutation\n",
    "from jmetal.problem import ZDT1\n",
    "from jmetal.util.termination_criterion import StoppingByEvaluations"
   ]
  },
  {
   "cell_type": "code",
   "execution_count": 2,
   "metadata": {},
   "outputs": [],
   "source": [
    "problem = ZDT1()\n",
    "\n",
    "algorithm = SMPSO(\n",
    "    problem=problem,\n",
    "    swarm_size=100,\n",
    "    mutation=PolynomialMutation(probability=1.0 / problem.number_of_variables,\n",
    "                                distribution_index=20),\n",
    "    leaders=CrowdingDistanceArchive(100),\n",
    "    termination_criterion=StoppingByEvaluations(max_evaluations=25000)\n",
    ")\n",
    "\n",
    "algorithm.run()"
   ]
  },
  {
   "cell_type": "code",
   "execution_count": 3,
   "metadata": {},
   "outputs": [
    {
     "name": "stderr",
     "output_type": "stream",
     "text": [
      "2023-09-22 12:50:13,669 [MainThread  ] [INFO ]  Output file (function values): FUN.SMPSO.ZDT1\n",
      "2023-09-22 12:50:13,679 [MainThread  ] [INFO ]  Output file (variables): VAR.SMPSO.ZDT1\n"
     ]
    }
   ],
   "source": [
    "from jmetal.util.solution import get_non_dominated_solutions, print_function_values_to_file, print_variables_to_file\n",
    "\n",
    "front = get_non_dominated_solutions(algorithm.get_result())\n",
    "\n",
    "# save to files\n",
    "print_function_values_to_file(front, 'FUN.SMPSO.ZDT1')\n",
    "print_variables_to_file(front, 'VAR.SMPSO.ZDT1')"
   ]
  },
  {
   "cell_type": "code",
   "execution_count": 4,
   "metadata": {},
   "outputs": [],
   "source": [
    "from jmetal.lab.visualization import Plot\n",
    "plot_front = Plot(title='Pareto front approximation', axis_labels=['x', 'y'])\n",
    "plot_front.plot(front, label='SMPSO-ZDT1', filename='SMPSO-ZDT1', format='png')"
   ]
  },
  {
   "cell_type": "code",
   "execution_count": 5,
   "metadata": {},
   "outputs": [
    {
     "name": "stdout",
     "output_type": "stream",
     "text": [
      "Fitness Value: 0.4175263817197379\n"
     ]
    }
   ],
   "source": [
    "fitness_indicator = FitnessValue(is_minimization=True)\n",
    "fitness_value = fitness_indicator.compute(front)\n",
    "print(f\"Fitness Value: {fitness_value}\")"
   ]
  },
  {
   "cell_type": "code",
   "execution_count": 6,
   "metadata": {},
   "outputs": [
    {
     "name": "stdout",
     "output_type": "stream",
     "text": [
      "Hypervolume: 0.6618280439221597\n"
     ]
    }
   ],
   "source": [
    "objectives = [solution.objectives for solution in front]\n",
    "hypervolume_indicator = HyperVolume(reference_point=[1.0, 1.0])\n",
    "hypervolume =  hypervolume_indicator.compute(objectives)\n",
    "print(f\"Hypervolume: {hypervolume}\")"
   ]
  },
  {
   "cell_type": "code",
   "execution_count": 13,
   "metadata": {},
   "outputs": [
    {
     "name": "stdout",
     "output_type": "stream",
     "text": [
      "<class 'numpy.ndarray'>\n",
      "Generational Distance: 0.0006785710924321347\n"
     ]
    }
   ],
   "source": [
    "reference_front_file_path = '/home/anuj/Documents/jMetalPy/resources/reference_front/ZDT1.pf'\n",
    "reference_front = np.loadtxt(reference_front_file_path)\n",
    "solutions_array = np.array([solution.objectives for solution in front])\n",
    "generational_distance_indicator = GenerationalDistance(reference_front=reference_front)\n",
    "generational_distance = generational_distance_indicator.compute(solutions_array)\n",
    "print(f\"Generational Distance: {generational_distance}\")"
   ]
  },
  {
   "cell_type": "code",
   "execution_count": 14,
   "metadata": {},
   "outputs": [
    {
     "name": "stdout",
     "output_type": "stream",
     "text": [
      "Spacing: 0.0013354133427959651\n"
     ]
    }
   ],
   "source": [
    "reference_front_file_path = '/home/anuj/Documents/jMetalPy/resources/reference_front/ZDT1.pf'\n",
    "reference_front = np.loadtxt(reference_front_file_path)\n",
    "solutions_array = np.array([solution.objectives for solution in front])\n",
    "spacing_indicator = Spacing(reference_front=reference_front)\n",
    "Spacing = spacing_indicator.compute(solutions_array)\n",
    "print(f\"Spacing: {Spacing}\")"
   ]
  },
  {
   "cell_type": "code",
   "execution_count": 15,
   "metadata": {},
   "outputs": [
    {
     "name": "stdout",
     "output_type": "stream",
     "text": [
      "Inverted Generational Distance: 0.0037292573530969663\n"
     ]
    }
   ],
   "source": [
    "reference_front_file_path = '/home/anuj/Documents/jMetalPy/resources/reference_front/ZDT1.pf'\n",
    "reference_front = np.loadtxt(reference_front_file_path)\n",
    "solutions_array = np.array([solution.objectives for solution in front])\n",
    "inverted_generational_distance_indicator = InvertedGenerationalDistance(reference_front=reference_front)\n",
    "inverted_generational_distance = inverted_generational_distance_indicator.compute(solutions_array)\n",
    "print(f\"Inverted Generational Distance: {inverted_generational_distance}\")"
   ]
  },
  {
   "cell_type": "code",
   "execution_count": 16,
   "metadata": {},
   "outputs": [
    {
     "name": "stdout",
     "output_type": "stream",
     "text": [
      "this is front [[1.81316428e-02 8.67752093e-01]\n",
      " [1.00000000e+00 0.00000000e+00]\n",
      " [0.00000000e+00 1.00000000e+00]\n",
      " [9.18541219e-01 4.16594683e-02]\n",
      " [9.30975204e-01 3.52138910e-02]\n",
      " [6.05322332e-02 7.54044865e-01]\n",
      " [4.29323223e-01 3.44901277e-01]\n",
      " [4.17902604e-02 7.95897297e-01]\n",
      " [4.78866652e-02 7.81419507e-01]\n",
      " [2.63522704e-02 8.37671597e-01]\n",
      " [1.41390136e-02 8.82707112e-01]\n",
      " [2.76151079e-03 9.48317378e-01]\n",
      " [5.43723468e-02 7.67623662e-01]\n",
      " [6.75859092e-01 1.78069359e-01]\n",
      " [1.12228700e-01 6.65132630e-01]\n",
      " [4.68159995e-03 9.32448975e-01]\n",
      " [9.70724243e-01 1.49652488e-02]\n",
      " [6.13920810e-01 2.16752302e-01]\n",
      " [6.51581808e-01 1.92952388e-01]\n",
      " [2.77427033e-01 4.73516289e-01]\n",
      " [1.07262798e-02 8.98047904e-01]\n",
      " [3.57674908e-01 4.02406976e-01]\n",
      " [3.77629027e-01 3.85983979e-01]\n",
      " [7.95699560e-01 1.08004079e-01]\n",
      " [4.18713741e-01 3.52950217e-01]\n",
      " [6.88137001e-01 1.70546484e-01]\n",
      " [3.67440040e-01 3.94028260e-01]\n",
      " [5.24742769e-01 2.75970083e-01]\n",
      " [8.10394527e-01 1.00272865e-01]\n",
      " [3.12932732e-02 8.23566410e-01]\n",
      " [2.19026764e-02 8.52675075e-01]\n",
      " [6.70936461e-02 7.41182408e-01]\n",
      " [7.33784862e-03 9.15234624e-01]\n",
      " [6.63714276e-01 1.85382933e-01]\n",
      " [2.98094856e-01 4.54199028e-01]\n",
      " [8.66648777e-01 6.92371823e-02]\n",
      " [8.53150006e-01 7.63632595e-02]\n",
      " [2.36183159e-01 5.14259838e-01]\n",
      " [4.50747762e-01 3.28656370e-01]\n",
      " [2.56691617e-01 4.93482145e-01]\n",
      " [3.65405978e-02 8.09307740e-01]\n",
      " [7.13525886e-01 1.55319302e-01]\n",
      " [2.67292421e-01 4.83125393e-01]\n",
      " [2.26152647e-01 5.24606697e-01]\n",
      " [5.36960123e-01 2.67293226e-01]\n",
      " [9.57986519e-02 6.90852885e-01]\n",
      " [8.80400272e-01 6.19038861e-02]\n",
      " [8.39127044e-01 8.41541105e-02]\n",
      " [4.40117128e-01 3.36693840e-01]\n",
      " [4.06527035e-04 9.79863066e-01]\n",
      " [8.93706764e-01 5.47727210e-02]\n",
      " [5.49687163e-01 2.58888639e-01]\n",
      " [3.28261285e-01 4.27412346e-01]\n",
      " [9.06075050e-01 4.81375940e-02]\n",
      " [7.00740106e-01 1.63021113e-01]\n",
      " [5.75132883e-01 2.41763158e-01]\n",
      " [2.07167739e-01 5.44849850e-01]\n",
      " [7.35680270e-02 7.28825041e-01]\n",
      " [8.24644040e-01 9.19266670e-02]\n",
      " [5.87919637e-01 2.33459807e-01]\n",
      " [6.01163302e-01 2.25028048e-01]\n",
      " [3.47695032e-01 4.10499332e-01]\n",
      " [6.38788976e-01 2.00899703e-01]\n",
      " [3.87633975e-01 3.77602425e-01]\n",
      " [1.58690375e-01 6.01813969e-01]\n",
      " [1.20785336e-01 6.52867177e-01]\n",
      " [1.97986037e-01 5.55294404e-01]\n",
      " [9.43557077e-01 2.86492953e-02]\n",
      " [7.54383968e-01 1.31470010e-01]\n",
      " [4.08427507e-01 3.60923648e-01]\n",
      " [2.46483431e-01 5.03677235e-01]\n",
      " [4.87982964e-01 3.02026632e-01]\n",
      " [7.82081413e-01 1.16281245e-01]\n",
      " [1.78372142e-01 5.77702683e-01]\n",
      " [2.87542121e-01 4.63799120e-01]\n",
      " [1.88123680e-01 5.66419136e-01]\n",
      " [4.75466917e-01 3.11085155e-01]\n",
      " [6.26279987e-01 2.08809781e-01]\n",
      " [7.68277804e-01 1.23629528e-01]\n",
      " [9.85732696e-01 7.30628833e-03]\n",
      " [3.18432662e-01 4.36415298e-01]\n",
      " [2.16736029e-01 5.34762780e-01]\n",
      " [4.63058951e-01 3.19904527e-01]\n",
      " [1.03805149e-01 6.77886381e-01]\n",
      " [1.29254631e-03 9.64323538e-01]\n",
      " [1.48916690e-01 6.14432639e-01]\n",
      " [7.40523288e-01 1.39653893e-01]\n",
      " [5.00000000e-01 2.92898294e-01]\n",
      " [7.26859134e-01 1.47439839e-01]\n",
      " [3.98506072e-01 3.69233342e-01]\n",
      " [5.12680866e-01 2.84343496e-01]\n",
      " [9.56333679e-01 2.21517638e-02]\n",
      " [1.29782455e-01 6.39764360e-01]\n",
      " [3.38215595e-01 4.18964178e-01]\n",
      " [1.39044833e-01 6.27180363e-01]\n",
      " [8.81701296e-02 7.03410122e-01]\n",
      " [5.62306637e-01 2.50192533e-01]\n",
      " [3.07821010e-01 4.45485218e-01]\n",
      " [1.68694437e-01 5.89327069e-01]\n",
      " [8.07766756e-02 7.16169160e-01]]\n",
      "Additive_Epsilon: 0.005584639226103749\n"
     ]
    }
   ],
   "source": [
    "reference_front_file_path = '/home/anuj/Documents/jMetalPy/resources/reference_front/ZDT1.pf'\n",
    "reference_front = np.loadtxt(reference_front_file_path)\n",
    "solutions_array = np.array([solution.objectives for solution in front])\n",
    "epsilon_indicator = EpsilonIndicator(reference_front=reference_front)\n",
    "Additive_Epsilon = epsilon_indicator.compute(solutions_array)\n",
    "print(f\"Additive_Epsilon: {Additive_Epsilon}\")"
   ]
  },
  {
   "cell_type": "code",
   "execution_count": null,
   "metadata": {},
   "outputs": [],
   "source": []
  },
  {
   "cell_type": "code",
   "execution_count": null,
   "metadata": {},
   "outputs": [],
   "source": []
  },
  {
   "cell_type": "code",
   "execution_count": null,
   "metadata": {},
   "outputs": [
    {
     "ename": "TypeError",
     "evalue": "object of type 'Plot' has no len()",
     "output_type": "error",
     "traceback": [
      "\u001b[0;31m---------------------------------------------------------------------------\u001b[0m",
      "\u001b[0;31mTypeError\u001b[0m                                 Traceback (most recent call last)",
      "Cell \u001b[0;32mIn[18], line 2\u001b[0m\n\u001b[1;32m      1\u001b[0m hv \u001b[39m=\u001b[39m HyperVolume(plot_front)  \u001b[39m# Replace 'reference_point' with your reference point\u001b[39;00m\n\u001b[0;32m----> 2\u001b[0m hv_value \u001b[39m=\u001b[39m hv\u001b[39m.\u001b[39;49mcompute(front)\n\u001b[1;32m      3\u001b[0m \u001b[39mprint\u001b[39m(\u001b[39mf\u001b[39m\u001b[39m\"\u001b[39m\u001b[39mHypervolume: \u001b[39m\u001b[39m{\u001b[39;00mhv_value\u001b[39m}\u001b[39;00m\u001b[39m\"\u001b[39m)\n",
      "File \u001b[0;32m~/Documents/jMetalPy/jmetal/core/quality_indicator.py:143\u001b[0m, in \u001b[0;36mHyperVolume.compute\u001b[0;34m(self, solutions)\u001b[0m\n\u001b[1;32m    141\u001b[0m relevant_points \u001b[39m=\u001b[39m []\n\u001b[1;32m    142\u001b[0m reference_point \u001b[39m=\u001b[39m \u001b[39mself\u001b[39m\u001b[39m.\u001b[39mreferencePoint\n\u001b[0;32m--> 143\u001b[0m dimensions \u001b[39m=\u001b[39m \u001b[39mlen\u001b[39;49m(reference_point)\n\u001b[1;32m    144\u001b[0m \u001b[39mfor\u001b[39;00m point \u001b[39min\u001b[39;00m front:\n\u001b[1;32m    145\u001b[0m     \u001b[39m# only consider points that dominate the reference point\u001b[39;00m\n\u001b[1;32m    146\u001b[0m     \u001b[39mif\u001b[39;00m weakly_dominates(point, reference_point):\n",
      "\u001b[0;31mTypeError\u001b[0m: object of type 'Plot' has no len()"
     ]
    }
   ],
   "source": [
    "hv = HyperVolume(plot_front)  # Replace 'reference_point' with your reference point\n",
    "hv_value = hv.compute(front)\n",
    "print(f\"Hypervolume: {hv_value}\")"
   ]
  },
  {
   "cell_type": "code",
   "execution_count": null,
   "metadata": {},
   "outputs": [
    {
     "name": "stdout",
     "output_type": "stream",
     "text": [
      "this is front [<jmetal.core.solution.FloatSolution object at 0x7f26067a5630>, <jmetal.core.solution.FloatSolution object at 0x7f260674de40>, <jmetal.core.solution.FloatSolution object at 0x7f2606785300>, <jmetal.core.solution.FloatSolution object at 0x7f2606784790>, <jmetal.core.solution.FloatSolution object at 0x7f2606786020>, <jmetal.core.solution.FloatSolution object at 0x7f2606785930>, <jmetal.core.solution.FloatSolution object at 0x7f2606786860>, <jmetal.core.solution.FloatSolution object at 0x7f26067a4b80>, <jmetal.core.solution.FloatSolution object at 0x7f26067a6770>, <jmetal.core.solution.FloatSolution object at 0x7f260679d000>, <jmetal.core.solution.FloatSolution object at 0x7f2606785ff0>, <jmetal.core.solution.FloatSolution object at 0x7f2606784100>, <jmetal.core.solution.FloatSolution object at 0x7f26067a6ce0>, <jmetal.core.solution.FloatSolution object at 0x7f26067a5c60>, <jmetal.core.solution.FloatSolution object at 0x7f26067a5a20>, <jmetal.core.solution.FloatSolution object at 0x7f26067869b0>, <jmetal.core.solution.FloatSolution object at 0x7f2606786cb0>, <jmetal.core.solution.FloatSolution object at 0x7f260679dff0>, <jmetal.core.solution.FloatSolution object at 0x7f2606786b90>, <jmetal.core.solution.FloatSolution object at 0x7f26067a6980>, <jmetal.core.solution.FloatSolution object at 0x7f2606784d00>, <jmetal.core.solution.FloatSolution object at 0x7f26067a6920>, <jmetal.core.solution.FloatSolution object at 0x7f2606786170>, <jmetal.core.solution.FloatSolution object at 0x7f26067a5810>, <jmetal.core.solution.FloatSolution object at 0x7f260679c5e0>, <jmetal.core.solution.FloatSolution object at 0x7f26067859f0>, <jmetal.core.solution.FloatSolution object at 0x7f2606786a40>, <jmetal.core.solution.FloatSolution object at 0x7f260678e3e0>, <jmetal.core.solution.FloatSolution object at 0x7f260679dcf0>, <jmetal.core.solution.FloatSolution object at 0x7f260679f640>, <jmetal.core.solution.FloatSolution object at 0x7f26067a5390>, <jmetal.core.solution.FloatSolution object at 0x7f26067845b0>, <jmetal.core.solution.FloatSolution object at 0x7f260679e0b0>, <jmetal.core.solution.FloatSolution object at 0x7f2606784910>, <jmetal.core.solution.FloatSolution object at 0x7f26067a4490>, <jmetal.core.solution.FloatSolution object at 0x7f2606784130>, <jmetal.core.solution.FloatSolution object at 0x7f26067a5960>, <jmetal.core.solution.FloatSolution object at 0x7f26067a7310>, <jmetal.core.solution.FloatSolution object at 0x7f2606a67a90>, <jmetal.core.solution.FloatSolution object at 0x7f26067a5d20>, <jmetal.core.solution.FloatSolution object at 0x7f26067857b0>, <jmetal.core.solution.FloatSolution object at 0x7f260679ea10>, <jmetal.core.solution.FloatSolution object at 0x7f26067a6a40>, <jmetal.core.solution.FloatSolution object at 0x7f2606786800>, <jmetal.core.solution.FloatSolution object at 0x7f260679e9b0>, <jmetal.core.solution.FloatSolution object at 0x7f2606785f60>, <jmetal.core.solution.FloatSolution object at 0x7f2606785e40>, <jmetal.core.solution.FloatSolution object at 0x7f26067a4340>, <jmetal.core.solution.FloatSolution object at 0x7f26067854b0>, <jmetal.core.solution.FloatSolution object at 0x7f26067861a0>, <jmetal.core.solution.FloatSolution object at 0x7f26067a4040>, <jmetal.core.solution.FloatSolution object at 0x7f2606786d10>, <jmetal.core.solution.FloatSolution object at 0x7f2606786650>, <jmetal.core.solution.FloatSolution object at 0x7f2606784b80>, <jmetal.core.solution.FloatSolution object at 0x7f2606785240>, <jmetal.core.solution.FloatSolution object at 0x7f2606785810>, <jmetal.core.solution.FloatSolution object at 0x7f260679f6d0>, <jmetal.core.solution.FloatSolution object at 0x7f26067a6950>, <jmetal.core.solution.FloatSolution object at 0x7f260679f5b0>, <jmetal.core.solution.FloatSolution object at 0x7f26067867d0>, <jmetal.core.solution.FloatSolution object at 0x7f2606786d70>, <jmetal.core.solution.FloatSolution object at 0x7f26067a57e0>, <jmetal.core.solution.FloatSolution object at 0x7f26067a7940>, <jmetal.core.solution.FloatSolution object at 0x7f26067860e0>, <jmetal.core.solution.FloatSolution object at 0x7f260679c1f0>, <jmetal.core.solution.FloatSolution object at 0x7f260679d6f0>, <jmetal.core.solution.FloatSolution object at 0x7f2606784d90>, <jmetal.core.solution.FloatSolution object at 0x7f2606784730>, <jmetal.core.solution.FloatSolution object at 0x7f2606786770>, <jmetal.core.solution.FloatSolution object at 0x7f26067868f0>, <jmetal.core.solution.FloatSolution object at 0x7f2606784af0>, <jmetal.core.solution.FloatSolution object at 0x7f26067a7be0>, <jmetal.core.solution.FloatSolution object at 0x7f26067a6f20>, <jmetal.core.solution.FloatSolution object at 0x7f26067a7850>, <jmetal.core.solution.FloatSolution object at 0x7f2606784850>, <jmetal.core.solution.FloatSolution object at 0x7f26067860b0>, <jmetal.core.solution.FloatSolution object at 0x7f26067864a0>, <jmetal.core.solution.FloatSolution object at 0x7f2606784070>, <jmetal.core.solution.FloatSolution object at 0x7f260679dcc0>, <jmetal.core.solution.FloatSolution object at 0x7f2606786dd0>, <jmetal.core.solution.FloatSolution object at 0x7f2606785ed0>, <jmetal.core.solution.FloatSolution object at 0x7f2606786110>, <jmetal.core.solution.FloatSolution object at 0x7f26067a7610>, <jmetal.core.solution.FloatSolution object at 0x7f2606786530>, <jmetal.core.solution.FloatSolution object at 0x7f2606786260>, <jmetal.core.solution.FloatSolution object at 0x7f2606787070>, <jmetal.core.solution.FloatSolution object at 0x7f260679d3f0>, <jmetal.core.solution.FloatSolution object at 0x7f2606785660>, <jmetal.core.solution.FloatSolution object at 0x7f26067a5d50>, <jmetal.core.solution.FloatSolution object at 0x7f2606786e30>, <jmetal.core.solution.FloatSolution object at 0x7f26067a1e10>, <jmetal.core.solution.FloatSolution object at 0x7f2606787010>, <jmetal.core.solution.FloatSolution object at 0x7f26067851e0>, <jmetal.core.solution.FloatSolution object at 0x7f26067a7c10>, <jmetal.core.solution.FloatSolution object at 0x7f26067a5210>, <jmetal.core.solution.FloatSolution object at 0x7f26067a7250>, <jmetal.core.solution.FloatSolution object at 0x7f2606786920>, <jmetal.core.solution.FloatSolution object at 0x7f2606785480>, <jmetal.core.solution.FloatSolution object at 0x7f2606784ca0>, <jmetal.core.solution.FloatSolution object at 0x7f26067844c0>]\n"
     ]
    },
    {
     "ename": "TypeError",
     "evalue": "'Plot' object is not iterable",
     "output_type": "error",
     "traceback": [
      "\u001b[0;31m---------------------------------------------------------------------------\u001b[0m",
      "\u001b[0;31mTypeError\u001b[0m                                 Traceback (most recent call last)",
      "Cell \u001b[0;32mIn[17], line 2\u001b[0m\n\u001b[1;32m      1\u001b[0m epsilon \u001b[39m=\u001b[39m EpsilonIndicator(plot_front)\n\u001b[0;32m----> 2\u001b[0m epsilon_value \u001b[39m=\u001b[39m epsilon\u001b[39m.\u001b[39;49mcompute(front)\n\u001b[1;32m      3\u001b[0m \u001b[39mprint\u001b[39m(\u001b[39mf\u001b[39m\u001b[39m\"\u001b[39m\u001b[39mEpsilon Indicator: \u001b[39m\u001b[39m{\u001b[39;00mepsilon_value\u001b[39m}\u001b[39;00m\u001b[39m\"\u001b[39m)\n",
      "File \u001b[0;32m~/Documents/jMetalPy/jmetal/core/quality_indicator.py:103\u001b[0m, in \u001b[0;36mEpsilonIndicator.compute\u001b[0;34m(self, front)\u001b[0m\n\u001b[1;32m    101\u001b[0m \u001b[39mdef\u001b[39;00m \u001b[39mcompute\u001b[39m(\u001b[39mself\u001b[39m, front: np\u001b[39m.\u001b[39marray) \u001b[39m-\u001b[39m\u001b[39m>\u001b[39m \u001b[39mfloat\u001b[39m:\n\u001b[1;32m    102\u001b[0m     \u001b[39mprint\u001b[39m(\u001b[39mf\u001b[39m\u001b[39m\"\u001b[39m\u001b[39mthis is front \u001b[39m\u001b[39m{\u001b[39;00mfront\u001b[39m}\u001b[39;00m\u001b[39m\"\u001b[39m)\n\u001b[0;32m--> 103\u001b[0m     \u001b[39mreturn\u001b[39;00m \u001b[39mmax\u001b[39m([\u001b[39mmin\u001b[39m(\n\u001b[1;32m    104\u001b[0m         [\u001b[39mmax\u001b[39m([s2[k] \u001b[39m-\u001b[39m s1[k] \u001b[39mfor\u001b[39;00m k \u001b[39min\u001b[39;00m \u001b[39mrange\u001b[39m(\u001b[39mlen\u001b[39m(s2))]) \u001b[39mfor\u001b[39;00m s2 \u001b[39min\u001b[39;00m front]) \u001b[39mfor\u001b[39;00m s1 \u001b[39min\u001b[39;00m \u001b[39mself\u001b[39m\u001b[39m.\u001b[39mreference_front])\n",
      "\u001b[0;31mTypeError\u001b[0m: 'Plot' object is not iterable"
     ]
    }
   ],
   "source": [
    "epsilon = EpsilonIndicator(plot_front)\n",
    "epsilon_value = epsilon.compute(front)\n",
    "print(f\"Epsilon Indicator: {epsilon_value}\")"
   ]
  },
  {
   "cell_type": "code",
   "execution_count": null,
   "metadata": {},
   "outputs": [
    {
     "name": "stdout",
     "output_type": "stream",
     "text": [
      "front-> type(front): <class 'list'>, len(front): 100, type(front[0]): <class 'jmetal.core.solution.FloatSolution'>\n",
      "front_array-> type(front_array): <class 'numpy.ndarray'>, type(front_array[0][0]): <class 'jmetal.core.solution.FloatSolution'>, front_array.shape: (1, 100)\n",
      "plot_front -> type(plot_front): <class 'jmetal.lab.visualization.plotting.Plot'>\n",
      "<class 'jmetal.lab.visualization.plotting.Plot'>\n"
     ]
    },
    {
     "ename": "ValueError",
     "evalue": "XB must be a 2-dimensional array.",
     "output_type": "error",
     "traceback": [
      "\u001b[0;31m---------------------------------------------------------------------------\u001b[0m",
      "\u001b[0;31mValueError\u001b[0m                                Traceback (most recent call last)",
      "Cell \u001b[0;32mIn[15], line 11\u001b[0m\n\u001b[1;32m      9\u001b[0m \u001b[39mprint\u001b[39m(\u001b[39mf\u001b[39m\u001b[39m\"\u001b[39m\u001b[39mplot_front -> type(plot_front): \u001b[39m\u001b[39m{\u001b[39;00m\u001b[39mtype\u001b[39m(plot_front)\u001b[39m}\u001b[39;00m\u001b[39m\"\u001b[39m)\n\u001b[1;32m     10\u001b[0m gd \u001b[39m=\u001b[39m GenerationalDistance(plot_front)\n\u001b[0;32m---> 11\u001b[0m gd_value \u001b[39m=\u001b[39m gd\u001b[39m.\u001b[39;49mcompute(front_array)\n\u001b[1;32m     12\u001b[0m \u001b[39mprint\u001b[39m(\u001b[39mf\u001b[39m\u001b[39m\"\u001b[39m\u001b[39mGenerational Distance: \u001b[39m\u001b[39m{\u001b[39;00mgd_value\u001b[39m}\u001b[39;00m\u001b[39m\"\u001b[39m)\n",
      "File \u001b[0;32m~/Documents/jMetalPy/jmetal/core/quality_indicator.py:65\u001b[0m, in \u001b[0;36mGenerationalDistance.compute\u001b[0;34m(self, solutions)\u001b[0m\n\u001b[1;32m     62\u001b[0m     \u001b[39m# raise Exception('Reference front is none')\u001b[39;00m\n\u001b[1;32m     64\u001b[0m \u001b[39mprint\u001b[39m(\u001b[39mtype\u001b[39m(\u001b[39mself\u001b[39m\u001b[39m.\u001b[39mreference_front))\n\u001b[0;32m---> 65\u001b[0m distances \u001b[39m=\u001b[39m spatial\u001b[39m.\u001b[39;49mdistance\u001b[39m.\u001b[39;49mcdist(solutions, \u001b[39mself\u001b[39;49m\u001b[39m.\u001b[39;49mreference_front)\n\u001b[1;32m     67\u001b[0m \u001b[39mreturn\u001b[39;00m np\u001b[39m.\u001b[39mmean(np\u001b[39m.\u001b[39mmin(distances, axis\u001b[39m=\u001b[39m\u001b[39m1\u001b[39m))\n",
      "File \u001b[0;32m~/.local/lib/python3.10/site-packages/scipy/spatial/distance.py:2918\u001b[0m, in \u001b[0;36mcdist\u001b[0;34m(XA, XB, metric, out, **kwargs)\u001b[0m\n\u001b[1;32m   2916\u001b[0m     \u001b[39mraise\u001b[39;00m \u001b[39mValueError\u001b[39;00m(\u001b[39m'\u001b[39m\u001b[39mXA must be a 2-dimensional array.\u001b[39m\u001b[39m'\u001b[39m)\n\u001b[1;32m   2917\u001b[0m \u001b[39mif\u001b[39;00m \u001b[39mlen\u001b[39m(sB) \u001b[39m!=\u001b[39m \u001b[39m2\u001b[39m:\n\u001b[0;32m-> 2918\u001b[0m     \u001b[39mraise\u001b[39;00m \u001b[39mValueError\u001b[39;00m(\u001b[39m'\u001b[39m\u001b[39mXB must be a 2-dimensional array.\u001b[39m\u001b[39m'\u001b[39m)\n\u001b[1;32m   2919\u001b[0m \u001b[39mif\u001b[39;00m s[\u001b[39m1\u001b[39m] \u001b[39m!=\u001b[39m sB[\u001b[39m1\u001b[39m]:\n\u001b[1;32m   2920\u001b[0m     \u001b[39mraise\u001b[39;00m \u001b[39mValueError\u001b[39;00m(\u001b[39m'\u001b[39m\u001b[39mXA and XB must have the same number of columns \u001b[39m\u001b[39m'\u001b[39m\n\u001b[1;32m   2921\u001b[0m                      \u001b[39m'\u001b[39m\u001b[39m(i.e. feature dimension.)\u001b[39m\u001b[39m'\u001b[39m)\n",
      "\u001b[0;31mValueError\u001b[0m: XB must be a 2-dimensional array."
     ]
    }
   ],
   "source": [
    "print(f\"front-> type(front): {type(front)}, len(front): {len(front)}, type(front[0]): {type(front[0])}\")\n",
    "\n",
    "front_array = np.array(front)\n",
    "n = len(front_array)\n",
    "front_array = front_array.reshape(-1, n)\n",
    "\n",
    "print(f\"front_array-> type(front_array): {type(front_array)}, type(front_array[0][0]): {type(front_array[0][0])}, front_array.shape: {front_array.shape}\")\n",
    "\n",
    "print(f\"plot_front -> type(plot_front): {type(plot_front)}\")\n",
    "gd = GenerationalDistance(plot_front)\n",
    "gd_value = gd.compute(front_array)\n",
    "print(f\"Generational Distance: {gd_value}\")"
   ]
  },
  {
   "cell_type": "code",
   "execution_count": null,
   "metadata": {},
   "outputs": [
    {
     "ename": "ValueError",
     "evalue": "XA must be a 2-dimensional array.",
     "output_type": "error",
     "traceback": [
      "\u001b[0;31m---------------------------------------------------------------------------\u001b[0m",
      "\u001b[0;31mValueError\u001b[0m                                Traceback (most recent call last)",
      "Cell \u001b[0;32mIn[6], line 2\u001b[0m\n\u001b[1;32m      1\u001b[0m gd \u001b[39m=\u001b[39m GenerationalDistance(plot_front)\n\u001b[0;32m----> 2\u001b[0m gd_value \u001b[39m=\u001b[39m gd\u001b[39m.\u001b[39;49mcompute(front)\n\u001b[1;32m      3\u001b[0m \u001b[39mprint\u001b[39m(\u001b[39mf\u001b[39m\u001b[39m\"\u001b[39m\u001b[39mGenerational Distance: \u001b[39m\u001b[39m{\u001b[39;00mgd_value\u001b[39m}\u001b[39;00m\u001b[39m\"\u001b[39m)\n",
      "File \u001b[0;32m~/Documents/jMetalPy/jmetal/core/quality_indicator.py:64\u001b[0m, in \u001b[0;36mGenerationalDistance.compute\u001b[0;34m(self, solutions)\u001b[0m\n\u001b[1;32m     61\u001b[0m     \u001b[39mraise\u001b[39;00m \u001b[39mException\u001b[39;00m(\u001b[39mf\u001b[39m\u001b[39m'\u001b[39m\u001b[39mReference front not found at \u001b[39m\u001b[39m{\u001b[39;00m\u001b[39mself\u001b[39m\u001b[39m.\u001b[39mreference_front\u001b[39m}\u001b[39;00m\u001b[39m'\u001b[39m)\n\u001b[1;32m     62\u001b[0m     \u001b[39m# raise Exception('Reference front is none')\u001b[39;00m\n\u001b[0;32m---> 64\u001b[0m distances \u001b[39m=\u001b[39m spatial\u001b[39m.\u001b[39;49mdistance\u001b[39m.\u001b[39;49mcdist(solutions, \u001b[39mself\u001b[39;49m\u001b[39m.\u001b[39;49mreference_front)\n\u001b[1;32m     66\u001b[0m \u001b[39mreturn\u001b[39;00m np\u001b[39m.\u001b[39mmean(np\u001b[39m.\u001b[39mmin(distances, axis\u001b[39m=\u001b[39m\u001b[39m1\u001b[39m))\n",
      "File \u001b[0;32m~/.local/lib/python3.10/site-packages/scipy/spatial/distance.py:2916\u001b[0m, in \u001b[0;36mcdist\u001b[0;34m(XA, XB, metric, out, **kwargs)\u001b[0m\n\u001b[1;32m   2913\u001b[0m sB \u001b[39m=\u001b[39m XB\u001b[39m.\u001b[39mshape\n\u001b[1;32m   2915\u001b[0m \u001b[39mif\u001b[39;00m \u001b[39mlen\u001b[39m(s) \u001b[39m!=\u001b[39m \u001b[39m2\u001b[39m:\n\u001b[0;32m-> 2916\u001b[0m     \u001b[39mraise\u001b[39;00m \u001b[39mValueError\u001b[39;00m(\u001b[39m'\u001b[39m\u001b[39mXA must be a 2-dimensional array.\u001b[39m\u001b[39m'\u001b[39m)\n\u001b[1;32m   2917\u001b[0m \u001b[39mif\u001b[39;00m \u001b[39mlen\u001b[39m(sB) \u001b[39m!=\u001b[39m \u001b[39m2\u001b[39m:\n\u001b[1;32m   2918\u001b[0m     \u001b[39mraise\u001b[39;00m \u001b[39mValueError\u001b[39;00m(\u001b[39m'\u001b[39m\u001b[39mXB must be a 2-dimensional array.\u001b[39m\u001b[39m'\u001b[39m)\n",
      "\u001b[0;31mValueError\u001b[0m: XA must be a 2-dimensional array."
     ]
    }
   ],
   "source": [
    "gd = GenerationalDistance(plot_front)\n",
    "gd_value = gd.compute(front)\n",
    "print(f\"Generational Distance: {gd_value}\")"
   ]
  },
  {
   "cell_type": "code",
   "execution_count": null,
   "metadata": {},
   "outputs": [],
   "source": []
  }
 ],
 "metadata": {
  "kernelspec": {
   "display_name": "Python 3",
   "language": "python",
   "name": "python3"
  },
  "language_info": {
   "codemirror_mode": {
    "name": "ipython",
    "version": 3
   },
   "file_extension": ".py",
   "mimetype": "text/x-python",
   "name": "python",
   "nbconvert_exporter": "python",
   "pygments_lexer": "ipython3",
   "version": "3.10.6"
  },
  "orig_nbformat": 4,
  "vscode": {
   "interpreter": {
    "hash": "916dbcbb3f70747c44a77c7bcd40155683ae19c65e1c03b4aa3499c5328201f1"
   }
  }
 },
 "nbformat": 4,
 "nbformat_minor": 2
}
