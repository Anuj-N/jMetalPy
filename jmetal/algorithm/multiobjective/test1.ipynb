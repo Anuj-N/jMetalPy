{
 "cells": [
  {
   "cell_type": "code",
   "execution_count": 1,
   "metadata": {},
   "outputs": [],
   "source": [
    "from jmetal.algorithm.multiobjective.smpso import EMSMPSO, FCPSO_Beta, FCPSO_Omega, Chaotic_EMPSO\n",
    "# from jmetal.algorithm.multiobjective import EMSMPSO\n",
    "from jmetal.problem.multiobjective.zdt import ZDT1, ZDT2, ZDT3, ZDT4, ZDT6\n",
    "from jmetal.operator.mutation import PolynomialMutation\n",
    "from jmetal.util.archive import CrowdingDistanceArchive\n",
    "from jmetal.util.termination_criterion import StoppingByEvaluations\n",
    "problem = ZDT1()\n",
    "algo = EMSMPSO # replace with 'FCPSO_Beta' or 'FCPSO_Omega'\n",
    "# algo = Chaotic_EMPSO\n",
    "algorithm = algo(\n",
    "problem=problem,\n",
    "swarm_size=100,\n",
    "mutation=PolynomialMutation(probability=1.0/ problem.number_of_variables, distribution_index=20),\n",
    "leaders=CrowdingDistanceArchive(100),\n",
    "termination_criterion=StoppingByEvaluations(max_evaluations=20000))\n",
    "algorithm.run()"
   ]
  },
  {
   "cell_type": "code",
   "execution_count": 2,
   "metadata": {},
   "outputs": [
    {
     "name": "stderr",
     "output_type": "stream",
     "text": [
      "2023-04-19 04:26:51,528 [MainThread  ] [INFO ]  Output file (function values): FUN.NSGAII.ZDT1\n",
      "2023-04-19 04:26:51,530 [MainThread  ] [INFO ]  Output file (variables): VAR.NSGAII.ZDT1\n"
     ]
    }
   ],
   "source": [
    "from jmetal.util.solution import get_non_dominated_solutions, print_function_values_to_file ,print_variables_to_file\n",
    "\n",
    "front = get_non_dominated_solutions(algorithm.get_result())\n",
    "\n",
    "# save to files\n",
    "print_function_values_to_file(front, 'FUN.NSGAII.ZDT1')\n",
    "print_variables_to_file(front, 'VAR.NSGAII.ZDT1')"
   ]
  },
  {
   "cell_type": "code",
   "execution_count": 3,
   "metadata": {},
   "outputs": [],
   "source": [
    "from jmetal.lab.visualization import Plot\n",
    "\n",
    "plot_front = Plot(title='Pareto front approximation', axis_labels=['x', 'y'])\n",
    "plot_front.plot(front, label='NSGAII-ZDT1', filename='NSGAII-ZDT1', format='png')"
   ]
  },
  {
   "cell_type": "code",
   "execution_count": null,
   "metadata": {},
   "outputs": [],
   "source": []
  }
 ],
 "metadata": {
  "kernelspec": {
   "display_name": "Python 3",
   "language": "python",
   "name": "python3"
  },
  "language_info": {
   "codemirror_mode": {
    "name": "ipython",
    "version": 3
   },
   "file_extension": ".py",
   "mimetype": "text/x-python",
   "name": "python",
   "nbconvert_exporter": "python",
   "pygments_lexer": "ipython3",
   "version": "3.10.6"
  },
  "orig_nbformat": 4,
  "vscode": {
   "interpreter": {
    "hash": "916dbcbb3f70747c44a77c7bcd40155683ae19c65e1c03b4aa3499c5328201f1"
   }
  }
 },
 "nbformat": 4,
 "nbformat_minor": 2
}
