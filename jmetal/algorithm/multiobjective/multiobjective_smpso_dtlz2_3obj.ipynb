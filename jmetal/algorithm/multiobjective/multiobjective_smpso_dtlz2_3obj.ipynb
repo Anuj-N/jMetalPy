{
 "cells": [
  {
   "cell_type": "code",
   "execution_count": 5,
   "metadata": {},
   "outputs": [],
   "source": [
    "from jmetal.algorithm.multiobjective.gde3 import GDE3\n",
    "from jmetal.algorithm.multiobjective.nsgaii import NSGAII\n",
    "from jmetal.algorithm.multiobjective.smpso import SMPSO\n",
    "from jmetal.core.quality_indicator import *\n",
    "from jmetal.lab.experiment import Experiment, Job, generate_summary_from_experiment\n",
    "from jmetal.operator import PolynomialMutation, SBXCrossover\n",
    "from jmetal.util.archive import CrowdingDistanceArchive\n",
    "from jmetal.util.termination_criterion import StoppingByEvaluations\n",
    "from jmetal.lab.experiment import generate_boxplot, generate_latex_tables, compute_mean_indicator, compute_wilcoxon\n",
    "from jmetal.lab.statistical_test.bayesian import *\n",
    "from jmetal.lab.statistical_test.functions import *\n",
    "from jmetal.lab.visualization import CDplot, plot_posterior\n",
    "from jmetal.algorithm.multiobjective import NSGAII\n",
    "from jmetal.operator import SBXCrossover, PolynomialMutation\n",
    "from jmetal.problem import DTLZ2\n",
    "from jmetal.util.termination_criterion import StoppingByEvaluations"
   ]
  },
  {
   "cell_type": "code",
   "execution_count": 6,
   "metadata": {},
   "outputs": [],
   "source": [
    "problem = DTLZ2(number_of_objectives=3)\n",
    "\n",
    "algorithm = SMPSO(\n",
    "    problem=problem,\n",
    "    swarm_size=100,\n",
    "    mutation=PolynomialMutation(probability=1.0 / problem.number_of_variables,\n",
    "                                distribution_index=20),\n",
    "    leaders=CrowdingDistanceArchive(100),\n",
    "    termination_criterion=StoppingByEvaluations(max_evaluations=25000)\n",
    ")\n",
    "\n",
    "algorithm.run()"
   ]
  },
  {
   "cell_type": "code",
   "execution_count": 7,
   "metadata": {},
   "outputs": [
    {
     "name": "stderr",
     "output_type": "stream",
     "text": [
      "2023-09-27 12:04:49,131 [MainThread  ] [INFO ]  Output file (function values): FUN.SMPSO.DTLZ2_3\n",
      "2023-09-27 12:04:49,143 [MainThread  ] [INFO ]  Output file (variables): VAR.SMPSO.DTLZ2_3\n"
     ]
    }
   ],
   "source": [
    "from jmetal.util.solution import get_non_dominated_solutions, print_function_values_to_file, print_variables_to_file\n",
    "\n",
    "front = get_non_dominated_solutions(algorithm.get_result())\n",
    "\n",
    "# save to files\n",
    "print_function_values_to_file(front, 'FUN.SMPSO.DTLZ2_3')\n",
    "print_variables_to_file(front, 'VAR.SMPSO.DTLZ2_3')"
   ]
  },
  {
   "cell_type": "code",
   "execution_count": 8,
   "metadata": {},
   "outputs": [],
   "source": [
    "from jmetal.lab.visualization import Plot\n",
    "# plot_front = Plot(title='Pareto front approximation', axis_labels=['x', 'y'])\n",
    "plot_front = Plot(title='Pareto front approximation', axis_labels=['x1', 'x2', 'x3'])\n",
    "plot_front.plot(front, label='SMPSO-DTLZ2_3', filename='SMPSO-DTLZ2_3', format='png')"
   ]
  },
  {
   "cell_type": "code",
   "execution_count": 9,
   "metadata": {},
   "outputs": [
    {
     "name": "stdout",
     "output_type": "stream",
     "text": [
      "Spacing: 0.0509869703964455\n"
     ]
    }
   ],
   "source": [
    "reference_front_file_path = '/home/anuj/Documents/jMetalPy/resources/reference_front/DTLZ2.3D.pf'\n",
    "reference_front = np.loadtxt(reference_front_file_path)\n",
    "solutions_array = np.array([solution.objectives for solution in front])\n",
    "spacing_indicator = Spacing(reference_front=reference_front)\n",
    "Spacing = spacing_indicator.compute(solutions_array)\n",
    "print(f\"Spacing: {Spacing}\")"
   ]
  },
  {
   "cell_type": "code",
   "execution_count": 10,
   "metadata": {},
   "outputs": [
    {
     "name": "stdout",
     "output_type": "stream",
     "text": [
      "Fitness Value: 0.5093689797116748\n"
     ]
    }
   ],
   "source": [
    "fitness_indicator = FitnessValue(is_minimization=True)\n",
    "fitness_value = fitness_indicator.compute(front)\n",
    "print(f\"Fitness Value: {fitness_value}\")"
   ]
  },
  {
   "cell_type": "code",
   "execution_count": 11,
   "metadata": {},
   "outputs": [
    {
     "name": "stdout",
     "output_type": "stream",
     "text": [
      "Hypervolume: 0.34061777614984406\n"
     ]
    }
   ],
   "source": [
    "objectives = [solution.objectives for solution in front]\n",
    "# hypervolume_indicator = HyperVolume(reference_point=[1.0, 1.0])\n",
    "hypervolume_indicator = HyperVolume(reference_point=[1.0]*3)\n",
    "hypervolume =  hypervolume_indicator.compute(objectives)\n",
    "print(f\"Hypervolume: {hypervolume}\")"
   ]
  },
  {
   "cell_type": "code",
   "execution_count": 12,
   "metadata": {},
   "outputs": [
    {
     "name": "stdout",
     "output_type": "stream",
     "text": [
      "<class 'numpy.ndarray'>\n",
      "Generational Distance: 0.03572084387319267\n"
     ]
    }
   ],
   "source": [
    "reference_front_file_path = '/home/anuj/Documents/jMetalPy/resources/reference_front/DTLZ2.3D.pf'\n",
    "reference_front = np.loadtxt(reference_front_file_path)\n",
    "solutions_array = np.array([solution.objectives for solution in front])\n",
    "generational_distance_indicator = GenerationalDistance(reference_front=reference_front)\n",
    "generational_distance = generational_distance_indicator.compute(solutions_array)\n",
    "print(f\"Generational Distance: {generational_distance}\")"
   ]
  },
  {
   "cell_type": "code",
   "execution_count": 13,
   "metadata": {},
   "outputs": [
    {
     "name": "stdout",
     "output_type": "stream",
     "text": [
      "Inverted Generational Distance: 0.07404308248559806\n"
     ]
    }
   ],
   "source": [
    "reference_front_file_path = '/home/anuj/Documents/jMetalPy/resources/reference_front/DTLZ2.3D.pf'\n",
    "reference_front = np.loadtxt(reference_front_file_path)\n",
    "solutions_array = np.array([solution.objectives for solution in front])\n",
    "inverted_generational_distance_indicator = InvertedGenerationalDistance(reference_front=reference_front)\n",
    "inverted_generational_distance = inverted_generational_distance_indicator.compute(solutions_array)\n",
    "print(f\"Inverted Generational Distance: {inverted_generational_distance}\")"
   ]
  },
  {
   "cell_type": "code",
   "execution_count": 14,
   "metadata": {},
   "outputs": [
    {
     "name": "stdout",
     "output_type": "stream",
     "text": [
      "this is front [[6.38944115e-17 0.00000000e+00 1.04347493e+00]\n",
      " [3.89645970e-33 6.36340160e-17 1.03922235e+00]\n",
      " [3.21582659e-01 4.42599045e-02 9.65948697e-01]\n",
      " [1.09608388e-01 9.55385623e-01 3.80586053e-01]\n",
      " [6.31806988e-17 1.03181912e+00 0.00000000e+00]\n",
      " [7.93550645e-01 4.82860424e-01 3.90884453e-01]\n",
      " [5.36340041e-01 5.09374472e-01 6.90932296e-01]\n",
      " [9.20843591e-01 2.41256747e-01 3.55583468e-01]\n",
      " [9.37954339e-01 3.13126898e-01 1.48989081e-01]\n",
      " [4.57819858e-01 8.43008523e-01 3.16947022e-01]\n",
      " [3.56081836e-01 1.86994803e-01 9.35976896e-01]\n",
      " [9.51204701e-01 3.03648287e-01 6.91209519e-02]\n",
      " [1.00377681e+00 0.00000000e+00 0.00000000e+00]\n",
      " [1.67661670e-01 2.94926078e-01 9.54086703e-01]\n",
      " [9.65764369e-01 2.03072770e-01 1.94078734e-01]\n",
      " [5.07068297e-01 1.20814814e-01 8.82793189e-01]\n",
      " [2.80202796e-02 1.40871488e-01 1.01629675e+00]\n",
      " [4.07966146e-01 3.36260105e-01 9.04051147e-01]\n",
      " [9.78232467e-01 2.17316527e-01 4.96626868e-02]\n",
      " [8.43231573e-01 4.01147330e-01 3.68011874e-01]\n",
      " [8.31237027e-01 6.14770496e-01 8.86176937e-02]\n",
      " [9.90309706e-01 1.57900300e-01 1.25140354e-02]\n",
      " [7.23030041e-01 2.64501774e-01 6.64656337e-01]\n",
      " [9.21096461e-02 6.79801748e-01 8.15770547e-01]\n",
      " [4.92272180e-01 7.51728327e-01 5.05094757e-01]\n",
      " [7.09956510e-01 2.77979959e-02 7.35741911e-01]\n",
      " [3.74373723e-01 5.41795678e-01 7.86138336e-01]\n",
      " [4.45398815e-01 4.13393704e-01 8.23816667e-01]\n",
      " [2.92164321e-01 8.93951590e-01 4.19254049e-01]\n",
      " [1.96833478e-01 9.09259125e-01 4.65433381e-01]\n",
      " [2.47713530e-01 7.89579935e-01 5.93429467e-01]\n",
      " [4.27931930e-17 5.99305549e-17 1.20264125e+00]\n",
      " [3.99842005e-01 8.89804047e-01 3.05971251e-01]\n",
      " [6.97215468e-01 8.07393782e-02 7.78313221e-01]\n",
      " [2.12458063e-01 5.36246039e-02 1.01301333e+00]\n",
      " [1.37142580e-01 7.10771244e-01 7.58395245e-01]\n",
      " [1.50527375e-01 2.54994219e-01 9.95227634e-01]\n",
      " [7.75463825e-01 9.36088003e-02 6.74848508e-01]\n",
      " [9.84209502e-01 1.13974039e-01 1.75069529e-01]\n",
      " [5.62771047e-01 6.24189880e-01 5.66021618e-01]\n",
      " [5.23217909e-02 9.83439494e-01 3.42782322e-01]\n",
      " [7.51191317e-01 5.03457475e-01 4.34239822e-01]\n",
      " [7.31328114e-01 2.77621754e-01 6.50149661e-01]\n",
      " [5.24570132e-01 1.72120633e-01 8.55367380e-01]\n",
      " [2.22073514e-01 6.97677463e-01 7.01735865e-01]\n",
      " [4.80979035e-01 9.36659026e-01 8.07098782e-02]\n",
      " [6.25819669e-01 4.36441373e-01 7.10661860e-01]\n",
      " [8.83969910e-01 3.80569809e-01 2.87285428e-01]\n",
      " [6.20402874e-01 8.01124364e-01 1.89347604e-01]\n",
      " [6.93723050e-02 6.85836185e-01 8.38913828e-01]\n",
      " [6.55158235e-01 2.83996280e-01 7.67530569e-01]\n",
      " [4.68769436e-01 7.36604073e-01 5.41671609e-01]\n",
      " [3.60458321e-01 9.91343725e-01 1.34093224e-01]\n",
      " [3.32167276e-01 3.21636241e-03 1.02649114e+00]\n",
      " [5.76887932e-01 8.62568673e-01 9.78126000e-02]\n",
      " [5.53745440e-01 5.68737564e-01 6.31043940e-01]\n",
      " [6.05404958e-17 2.90067180e-17 1.09632880e+00]\n",
      " [4.85201709e-17 5.16291776e-17 1.15707482e+00]\n",
      " [8.64279149e-01 4.51724382e-01 2.41909080e-01]\n",
      " [3.04872193e-01 9.77411934e-01 2.50378698e-01]\n",
      " [5.35668769e-02 7.26494357e-01 7.28466513e-01]\n",
      " [8.07047419e-01 5.34437126e-01 2.69026579e-01]\n",
      " [1.78830972e-01 1.02176326e+00 0.00000000e+00]\n",
      " [5.71146167e-01 8.14294254e-01 2.08953430e-01]\n",
      " [2.04595931e-01 5.21171250e-01 8.57372165e-01]\n",
      " [6.93920938e-01 4.58755916e-01 5.84503918e-01]\n",
      " [5.91636098e-01 8.31997855e-01 1.58713524e-01]\n",
      " [6.73836898e-01 3.19689064e-01 7.45826563e-01]\n",
      " [8.32897165e-02 8.75724075e-01 6.17956561e-01]\n",
      " [7.75103943e-01 6.32079955e-01 2.27159302e-01]\n",
      " [7.39586058e-01 5.44786670e-01 4.47175988e-01]\n",
      " [7.63483862e-01 4.23542783e-01 5.77183254e-01]\n",
      " [2.74105409e-01 3.45017290e-01 9.31765186e-01]\n",
      " [3.91293268e-01 3.91293268e-01 8.91139049e-01]\n",
      " [1.67135795e-02 9.67312746e-01 4.05181053e-01]\n",
      " [8.56961496e-01 5.74792216e-01 1.20326952e-01]\n",
      " [1.11744375e-01 1.00238314e+00 2.71484577e-01]\n",
      " [4.28389546e-01 1.79203142e-02 9.62601154e-01]\n",
      " [9.05173863e-01 4.36458492e-01 1.05936786e-01]\n",
      " [6.64286410e-01 5.93400501e-01 4.78345883e-01]\n",
      " [4.72809042e-01 6.98502326e-02 9.42773919e-01]\n",
      " [2.71947382e-01 2.33713516e-01 9.85148372e-01]\n",
      " [8.13655893e-01 4.74321695e-01 3.73812317e-01]\n",
      " [5.53315470e-17 4.24685583e-17 1.13911519e+00]\n",
      " [6.47908788e-01 6.28797121e-01 5.30423731e-01]\n",
      " [9.62814377e-01 3.77413103e-01 5.87432888e-02]\n",
      " [6.43350631e-01 6.41449742e-01 4.54185552e-01]\n",
      " [4.15967113e-01 7.81854391e-01 4.96316764e-01]\n",
      " [7.06573827e-01 7.06573827e-01 3.88182170e-02]\n",
      " [8.70453494e-01 4.19671532e-01 3.25669020e-01]\n",
      " [4.40020382e-01 5.68126070e-01 7.18599449e-01]\n",
      " [5.99340192e-01 5.99340192e-01 5.53231804e-01]\n",
      " [3.40418699e-01 7.61394934e-01 6.02037217e-01]\n",
      " [2.82246567e-01 5.54596113e-01 8.18522936e-01]\n",
      " [3.20307668e-01 9.23515780e-01 2.83895731e-01]\n",
      " [6.71418340e-01 6.57732253e-01 4.32916747e-01]\n",
      " [5.09829058e-01 7.20830968e-01 6.49256615e-01]\n",
      " [1.34692538e-01 4.93611403e-01 9.27238809e-01]\n",
      " [2.25716892e-01 7.80775010e-01 6.21191343e-01]\n",
      " [2.54836369e-01 7.29334368e-01 6.99312917e-01]]\n",
      "Additive_Epsilon: 0.13902050809999744\n"
     ]
    }
   ],
   "source": [
    "reference_front_file_path = '/home/anuj/Documents/jMetalPy/resources/reference_front/DTLZ2.3D.pf'\n",
    "reference_front = np.loadtxt(reference_front_file_path)\n",
    "solutions_array = np.array([solution.objectives for solution in front])\n",
    "epsilon_indicator = EpsilonIndicator(reference_front=reference_front)\n",
    "Additive_Epsilon = epsilon_indicator.compute(solutions_array)\n",
    "print(f\"Additive_Epsilon: {Additive_Epsilon}\")"
   ]
  },
  {
   "cell_type": "code",
   "execution_count": null,
   "metadata": {},
   "outputs": [],
   "source": []
  }
 ],
 "metadata": {
  "kernelspec": {
   "display_name": "Python 3",
   "language": "python",
   "name": "python3"
  },
  "language_info": {
   "codemirror_mode": {
    "name": "ipython",
    "version": 3
   },
   "file_extension": ".py",
   "mimetype": "text/x-python",
   "name": "python",
   "nbconvert_exporter": "python",
   "pygments_lexer": "ipython3",
   "version": "3.10.6"
  },
  "orig_nbformat": 4,
  "vscode": {
   "interpreter": {
    "hash": "916dbcbb3f70747c44a77c7bcd40155683ae19c65e1c03b4aa3499c5328201f1"
   }
  }
 },
 "nbformat": 4,
 "nbformat_minor": 2
}
