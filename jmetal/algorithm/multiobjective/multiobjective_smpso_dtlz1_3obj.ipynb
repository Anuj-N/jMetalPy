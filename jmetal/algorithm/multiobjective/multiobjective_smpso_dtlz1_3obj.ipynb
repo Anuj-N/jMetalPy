{
 "cells": [
  {
   "cell_type": "code",
   "execution_count": 1,
   "metadata": {},
   "outputs": [],
   "source": [
    "from jmetal.algorithm.multiobjective.gde3 import GDE3\n",
    "from jmetal.algorithm.multiobjective.nsgaii import NSGAII\n",
    "from jmetal.algorithm.multiobjective.smpso import SMPSO\n",
    "from jmetal.core.quality_indicator import *\n",
    "from jmetal.lab.experiment import Experiment, Job, generate_summary_from_experiment\n",
    "from jmetal.operator import PolynomialMutation, SBXCrossover\n",
    "from jmetal.util.archive import CrowdingDistanceArchive\n",
    "from jmetal.util.termination_criterion import StoppingByEvaluations\n",
    "from jmetal.lab.experiment import generate_boxplot, generate_latex_tables, compute_mean_indicator, compute_wilcoxon\n",
    "from jmetal.lab.statistical_test.bayesian import *\n",
    "from jmetal.lab.statistical_test.functions import *\n",
    "from jmetal.lab.visualization import CDplot, plot_posterior\n",
    "from jmetal.algorithm.multiobjective import NSGAII\n",
    "from jmetal.operator import SBXCrossover, PolynomialMutation\n",
    "from jmetal.problem import DTLZ1\n",
    "from jmetal.util.termination_criterion import StoppingByEvaluations"
   ]
  },
  {
   "cell_type": "code",
   "execution_count": 2,
   "metadata": {},
   "outputs": [],
   "source": [
    "problem = DTLZ1(number_of_objectives=3)\n",
    "\n",
    "algorithm = SMPSO(\n",
    "    problem=problem,\n",
    "    swarm_size=100,\n",
    "    mutation=PolynomialMutation(probability=1.0 / problem.number_of_variables,\n",
    "                                distribution_index=20),\n",
    "    leaders=CrowdingDistanceArchive(100),\n",
    "    termination_criterion=StoppingByEvaluations(max_evaluations=25000)\n",
    ")\n",
    "\n",
    "algorithm.run()"
   ]
  },
  {
   "cell_type": "code",
   "execution_count": 3,
   "metadata": {},
   "outputs": [
    {
     "name": "stderr",
     "output_type": "stream",
     "text": [
      "2023-09-27 14:09:27,065 [MainThread  ] [INFO ]  Output file (function values): FUN.SMPSO.DTLZ1_3\n",
      "2023-09-27 14:09:27,068 [MainThread  ] [INFO ]  Output file (variables): VAR.SMPSO.DTLZ1_3\n"
     ]
    }
   ],
   "source": [
    "from jmetal.util.solution import get_non_dominated_solutions, print_function_values_to_file, print_variables_to_file\n",
    "\n",
    "front = get_non_dominated_solutions(algorithm.get_result())\n",
    "\n",
    "# save to files\n",
    "print_function_values_to_file(front, 'FUN.SMPSO.DTLZ1_3')\n",
    "print_variables_to_file(front, 'VAR.SMPSO.DTLZ1_3')"
   ]
  },
  {
   "cell_type": "code",
   "execution_count": 4,
   "metadata": {},
   "outputs": [],
   "source": [
    "from jmetal.lab.visualization import Plot\n",
    "# plot_front = Plot(title='Pareto front approximation', axis_labels=['x', 'y'])\n",
    "plot_front = Plot(title='Pareto front approximation', axis_labels=['x1', 'x2', 'x3'])\n",
    "plot_front.plot(front, label='SMPSO-DTLZ1_3', filename='SMPSO-DTLZ1_3', format='png')"
   ]
  },
  {
   "cell_type": "code",
   "execution_count": 5,
   "metadata": {},
   "outputs": [
    {
     "name": "stdout",
     "output_type": "stream",
     "text": [
      "Spacing: 0.020825217538176028\n"
     ]
    }
   ],
   "source": [
    "reference_front_file_path = '/home/anuj/Documents/jMetalPy/resources/reference_front/DTLZ1.3D.pf'\n",
    "reference_front = np.loadtxt(reference_front_file_path)\n",
    "solutions_array = np.array([solution.objectives for solution in front])\n",
    "spacing_indicator = Spacing(reference_front=reference_front)\n",
    "Spacing = spacing_indicator.compute(solutions_array)\n",
    "print(f\"Spacing: {Spacing}\")"
   ]
  },
  {
   "cell_type": "code",
   "execution_count": 6,
   "metadata": {},
   "outputs": [
    {
     "name": "stdout",
     "output_type": "stream",
     "text": [
      "Fitness Value: 0.18108611015057022\n"
     ]
    }
   ],
   "source": [
    "fitness_indicator = FitnessValue(is_minimization=True)\n",
    "fitness_value = fitness_indicator.compute(front)\n",
    "print(f\"Fitness Value: {fitness_value}\")"
   ]
  },
  {
   "cell_type": "code",
   "execution_count": 7,
   "metadata": {},
   "outputs": [
    {
     "name": "stdout",
     "output_type": "stream",
     "text": [
      "Hypervolume: 0.9648473726143287\n"
     ]
    }
   ],
   "source": [
    "objectives = [solution.objectives for solution in front]\n",
    "# hypervolume_indicator = HyperVolume(reference_point=[1.0, 1.0])\n",
    "hypervolume_indicator = HyperVolume(reference_point=[1.0]*3)\n",
    "hypervolume =  hypervolume_indicator.compute(objectives)\n",
    "print(f\"Hypervolume: {hypervolume}\")"
   ]
  },
  {
   "cell_type": "code",
   "execution_count": 8,
   "metadata": {},
   "outputs": [
    {
     "name": "stdout",
     "output_type": "stream",
     "text": [
      "<class 'numpy.ndarray'>\n",
      "Generational Distance: 0.028289842656914796\n"
     ]
    }
   ],
   "source": [
    "reference_front_file_path = '/home/anuj/Documents/jMetalPy/resources/reference_front/DTLZ1.3D.pf'\n",
    "reference_front = np.loadtxt(reference_front_file_path)\n",
    "solutions_array = np.array([solution.objectives for solution in front])\n",
    "generational_distance_indicator = GenerationalDistance(reference_front=reference_front)\n",
    "generational_distance = generational_distance_indicator.compute(solutions_array)\n",
    "print(f\"Generational Distance: {generational_distance}\")"
   ]
  },
  {
   "cell_type": "code",
   "execution_count": 9,
   "metadata": {},
   "outputs": [
    {
     "name": "stdout",
     "output_type": "stream",
     "text": [
      "Inverted Generational Distance: 0.03164724533124545\n"
     ]
    }
   ],
   "source": [
    "reference_front_file_path = '/home/anuj/Documents/jMetalPy/resources/reference_front/DTLZ1.3D.pf'\n",
    "reference_front = np.loadtxt(reference_front_file_path)\n",
    "solutions_array = np.array([solution.objectives for solution in front])\n",
    "inverted_generational_distance_indicator = InvertedGenerationalDistance(reference_front=reference_front)\n",
    "inverted_generational_distance = inverted_generational_distance_indicator.compute(solutions_array)\n",
    "print(f\"Inverted Generational Distance: {inverted_generational_distance}\")"
   ]
  },
  {
   "cell_type": "code",
   "execution_count": 10,
   "metadata": {},
   "outputs": [
    {
     "name": "stdout",
     "output_type": "stream",
     "text": [
      "this is front [[0.         0.         0.50153157]\n",
      " [0.3092607  0.00148538 0.31074608]\n",
      " [0.00563753 0.01007992 0.48875011]\n",
      " [0.0177227  0.03199456 0.45108806]\n",
      " [0.         0.14362585 0.46247574]\n",
      " [0.43980662 0.04514738 0.06657062]\n",
      " [0.14395228 0.33384434 0.0617157 ]\n",
      " [0.39075099 0.13805833 0.02136274]\n",
      " [0.11551734 0.06504059 0.33586309]\n",
      " [0.46762486 0.06553308 0.00413728]\n",
      " [0.4010679  0.02856735 0.11585241]\n",
      " [0.05637873 0.05637873 0.43768943]\n",
      " [0.27964528 0.12307432 0.14390439]\n",
      " [0.04911682 0.1777439  0.30384819]\n",
      " [0.01255321 0.09935298 0.40926815]\n",
      " [0.56727436 0.         0.        ]\n",
      " [0.19896578 0.23958535 0.10496624]\n",
      " [0.06260739 0.42626681 0.04374987]\n",
      " [0.06433802 0.16122466 0.34401825]\n",
      " [0.00641026 0.49023125 0.02851939]\n",
      " [0.22651162 0.27684753 0.02151839]\n",
      " [0.36002899 0.10579213 0.04750898]\n",
      " [0.2081688  0.11954728 0.24783699]\n",
      " [0.         0.51745559 0.03231668]\n",
      " [0.25465947 0.1081466  0.17103565]\n",
      " [0.13866704 0.2660411  0.12427662]\n",
      " [0.54459119 0.         0.07202814]\n",
      " [0.12708143 0.04343454 0.33135764]\n",
      " [0.21787099 0.28478545 0.03762434]\n",
      " [0.17517829 0.2507172  0.11092723]\n",
      " [0.06931881 0.15674647 0.29793118]\n",
      " [0.03311098 0.08550609 0.44344244]\n",
      " [0.1465165  0.43693671 0.01117454]\n",
      " [0.02899723 0.31147292 0.21407003]\n",
      " [0.05902009 0.22009573 0.23729476]\n",
      " [0.03527168 0.38394023 0.09053929]\n",
      " [0.38988855 0.09382715 0.05445478]\n",
      " [0.04146861 0.         0.47595262]\n",
      " [0.14077708 0.01768059 0.35871887]\n",
      " [0.11785881 0.24702919 0.15381916]\n",
      " [0.1518001  0.20848228 0.18708958]\n",
      " [0.23218231 0.03671079 0.2364684 ]\n",
      " [0.12571822 0.0722757  0.31275081]\n",
      " [0.02524426 0.34947886 0.18003124]\n",
      " [0.52886862 0.06606224 0.        ]\n",
      " [0.10134163 0.17713923 0.27848086]\n",
      " [0.32084668 0.02523095 0.19641699]\n",
      " [0.09078041 0.2008768  0.2242197 ]\n",
      " [0.12353626 0.32335693 0.10058118]\n",
      " [0.23128654 0.1839675  0.12004545]\n",
      " [0.3654521  0.17092572 0.0164965 ]\n",
      " [0.20669645 0.22707402 0.08402867]\n",
      " [0.5223528  0.         0.14032708]\n",
      " [0.         0.45437555 0.04755043]\n",
      " [0.09269888 0.05189263 0.39859213]\n",
      " [0.34158008 0.0021374  0.19981495]\n",
      " [0.19347736 0.19233533 0.15199307]\n",
      " [0.15531742 0.25600927 0.09791218]\n",
      " [0.13123242 0.23243588 0.16436233]\n",
      " [0.16255279 0.03181877 0.32213346]\n",
      " [0.16025569 0.23470078 0.13399021]\n",
      " [0.32756879 0.0621514  0.15072567]\n",
      " [0.08207581 0.2102508  0.2299817 ]\n",
      " [0.         0.39297253 0.14807785]\n",
      " [0.27534643 0.13098677 0.15994998]\n",
      " [0.01823692 0.50091949 0.0154804 ]\n",
      " [0.07935268 0.20015814 0.26862227]\n",
      " [0.0436297  0.20417491 0.32555991]\n",
      " [0.09637069 0.34233987 0.07463246]\n",
      " [0.25889037 0.14130386 0.11419832]\n",
      " [0.11145752 0.16759317 0.2492766 ]\n",
      " [0.08426453 0.37215466 0.06645531]\n",
      " [0.54276889 0.0025548  0.        ]\n",
      " [0.26910408 0.07745874 0.19238694]\n",
      " [0.08902564 0.4668237  0.00545074]\n",
      " [0.18335137 0.25787789 0.08106514]\n",
      " [0.10373195 0.14694391 0.26477869]\n",
      " [0.48313275 0.01286036 0.06824047]\n",
      " [0.21819908 0.03416314 0.27522123]\n",
      " [0.29298201 0.1038869  0.15514337]\n",
      " [0.29592351 0.09016984 0.13452555]\n",
      " [0.21395735 0.07115026 0.28510761]\n",
      " [0.09795622 0.30338801 0.12573515]\n",
      " [0.01160131 0.35962443 0.19179905]\n",
      " [0.40471778 0.07774721 0.04981599]\n",
      " [0.50203592 0.12375674 0.        ]\n",
      " [0.10674276 0.40347064 0.01542651]\n",
      " [0.10162968 0.1537627  0.25707714]\n",
      " [0.         0.52462146 0.        ]\n",
      " [0.43369949 0.13993433 0.01270232]\n",
      " [0.23073467 0.29247975 0.        ]\n",
      " [0.05763514 0.12945223 0.35128853]\n",
      " [0.47247506 0.         0.24251123]\n",
      " [0.0536838  0.44618096 0.03141361]\n",
      " [0.49740864 0.         0.14270184]\n",
      " [0.30710464 0.00238545 0.25900339]\n",
      " [0.41498291 0.08985327 0.02381341]\n",
      " [0.07756653 0.06386807 0.37129606]\n",
      " [0.38121358 0.08717696 0.05869914]\n",
      " [0.21103867 0.26615631 0.05278624]]\n",
      "Additive_Epsilon: 0.06606513606857069\n"
     ]
    }
   ],
   "source": [
    "reference_front_file_path = '/home/anuj/Documents/jMetalPy/resources/reference_front/DTLZ1.3D.pf'\n",
    "reference_front = np.loadtxt(reference_front_file_path)\n",
    "solutions_array = np.array([solution.objectives for solution in front])\n",
    "epsilon_indicator = EpsilonIndicator(reference_front=reference_front)\n",
    "Additive_Epsilon = epsilon_indicator.compute(solutions_array)\n",
    "print(f\"Additive_Epsilon: {Additive_Epsilon}\")"
   ]
  },
  {
   "cell_type": "code",
   "execution_count": null,
   "metadata": {},
   "outputs": [],
   "source": []
  }
 ],
 "metadata": {
  "kernelspec": {
   "display_name": "Python 3",
   "language": "python",
   "name": "python3"
  },
  "language_info": {
   "codemirror_mode": {
    "name": "ipython",
    "version": 3
   },
   "file_extension": ".py",
   "mimetype": "text/x-python",
   "name": "python",
   "nbconvert_exporter": "python",
   "pygments_lexer": "ipython3",
   "version": "3.10.6"
  },
  "orig_nbformat": 4,
  "vscode": {
   "interpreter": {
    "hash": "916dbcbb3f70747c44a77c7bcd40155683ae19c65e1c03b4aa3499c5328201f1"
   }
  }
 },
 "nbformat": 4,
 "nbformat_minor": 2
}
