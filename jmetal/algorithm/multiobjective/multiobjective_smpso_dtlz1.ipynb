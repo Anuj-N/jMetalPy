{
 "cells": [
  {
   "cell_type": "code",
   "execution_count": 1,
   "metadata": {},
   "outputs": [],
   "source": [
    "from jmetal.algorithm.multiobjective.gde3 import GDE3\n",
    "from jmetal.algorithm.multiobjective.nsgaii import NSGAII\n",
    "from jmetal.algorithm.multiobjective.smpso import SMPSO\n",
    "from jmetal.core.quality_indicator import *\n",
    "from jmetal.lab.experiment import Experiment, Job, generate_summary_from_experiment\n",
    "from jmetal.operator import PolynomialMutation, SBXCrossover\n",
    "from jmetal.util.archive import CrowdingDistanceArchive\n",
    "from jmetal.util.termination_criterion import StoppingByEvaluations\n",
    "from jmetal.lab.experiment import generate_boxplot, generate_latex_tables, compute_mean_indicator, compute_wilcoxon\n",
    "from jmetal.lab.statistical_test.bayesian import *\n",
    "from jmetal.lab.statistical_test.functions import *\n",
    "from jmetal.lab.visualization import CDplot, plot_posterior\n",
    "from jmetal.algorithm.multiobjective import NSGAII\n",
    "from jmetal.operator import SBXCrossover, PolynomialMutation\n",
    "from jmetal.problem import DTLZ1\n",
    "from jmetal.util.termination_criterion import StoppingByEvaluations"
   ]
  },
  {
   "cell_type": "code",
   "execution_count": 2,
   "metadata": {},
   "outputs": [],
   "source": [
    "problem = DTLZ1(number_of_objectives=3)\n",
    "\n",
    "algorithm = SMPSO(\n",
    "    problem=problem,\n",
    "    swarm_size=100,\n",
    "    mutation=PolynomialMutation(probability=1.0 / problem.number_of_variables,\n",
    "                                distribution_index=20),\n",
    "    leaders=CrowdingDistanceArchive(100),\n",
    "    termination_criterion=StoppingByEvaluations(max_evaluations=25000)\n",
    ")\n",
    "\n",
    "algorithm.run()"
   ]
  },
  {
   "cell_type": "code",
   "execution_count": 3,
   "metadata": {},
   "outputs": [
    {
     "name": "stderr",
     "output_type": "stream",
     "text": [
      "2023-09-27 13:11:21,135 [MainThread  ] [INFO ]  Output file (function values): FUN.SMPSO.DTLZ1\n",
      "2023-09-27 13:11:21,137 [MainThread  ] [INFO ]  Output file (variables): VAR.SMPSO.DTLZ1\n"
     ]
    }
   ],
   "source": [
    "from jmetal.util.solution import get_non_dominated_solutions, print_function_values_to_file, print_variables_to_file\n",
    "\n",
    "front = get_non_dominated_solutions(algorithm.get_result())\n",
    "\n",
    "# save to files\n",
    "print_function_values_to_file(front, 'FUN.SMPSO.DTLZ1')\n",
    "print_variables_to_file(front, 'VAR.SMPSO.DTLZ1')"
   ]
  },
  {
   "cell_type": "code",
   "execution_count": 4,
   "metadata": {},
   "outputs": [],
   "source": [
    "from jmetal.lab.visualization import Plot\n",
    "# plot_front = Plot(title='Pareto front approximation', axis_labels=['x', 'y'])\n",
    "plot_front = Plot(title='Pareto front approximation', axis_labels=['x1', 'x2', 'x3'])\n",
    "plot_front.plot(front, label='SMPSO-DTLZ1', filename='SMPSO-DTLZ1', format='png')"
   ]
  },
  {
   "cell_type": "code",
   "execution_count": 5,
   "metadata": {},
   "outputs": [
    {
     "name": "stdout",
     "output_type": "stream",
     "text": [
      "Spacing: 0.025911457481126016\n"
     ]
    }
   ],
   "source": [
    "reference_front_file_path = '/home/anuj/Documents/jMetalPy/resources/reference_front/DTLZ1.3D.pf'\n",
    "reference_front = np.loadtxt(reference_front_file_path)\n",
    "solutions_array = np.array([solution.objectives for solution in front])\n",
    "spacing_indicator = Spacing(reference_front=reference_front)\n",
    "Spacing = spacing_indicator.compute(solutions_array)\n",
    "print(f\"Spacing: {Spacing}\")"
   ]
  },
  {
   "cell_type": "code",
   "execution_count": 6,
   "metadata": {},
   "outputs": [
    {
     "name": "stdout",
     "output_type": "stream",
     "text": [
      "Fitness Value: 0.17710798084830381\n"
     ]
    }
   ],
   "source": [
    "fitness_indicator = FitnessValue(is_minimization=True)\n",
    "fitness_value = fitness_indicator.compute(front)\n",
    "print(f\"Fitness Value: {fitness_value}\")"
   ]
  },
  {
   "cell_type": "code",
   "execution_count": 7,
   "metadata": {},
   "outputs": [
    {
     "name": "stdout",
     "output_type": "stream",
     "text": [
      "Hypervolume: 0.9672093513737481\n"
     ]
    }
   ],
   "source": [
    "objectives = [solution.objectives for solution in front]\n",
    "# hypervolume_indicator = HyperVolume(reference_point=[1.0, 1.0])\n",
    "hypervolume_indicator = HyperVolume(reference_point=[1.0]*3)\n",
    "hypervolume =  hypervolume_indicator.compute(objectives)\n",
    "print(f\"Hypervolume: {hypervolume}\")"
   ]
  },
  {
   "cell_type": "code",
   "execution_count": 8,
   "metadata": {},
   "outputs": [
    {
     "name": "stdout",
     "output_type": "stream",
     "text": [
      "<class 'numpy.ndarray'>\n",
      "Generational Distance: 0.019923481250178784\n"
     ]
    }
   ],
   "source": [
    "reference_front_file_path = '/home/anuj/Documents/jMetalPy/resources/reference_front/DTLZ1.3D.pf'\n",
    "reference_front = np.loadtxt(reference_front_file_path)\n",
    "solutions_array = np.array([solution.objectives for solution in front])\n",
    "generational_distance_indicator = GenerationalDistance(reference_front=reference_front)\n",
    "generational_distance = generational_distance_indicator.compute(solutions_array)\n",
    "print(f\"Generational Distance: {generational_distance}\")"
   ]
  },
  {
   "cell_type": "code",
   "execution_count": 9,
   "metadata": {},
   "outputs": [
    {
     "name": "stdout",
     "output_type": "stream",
     "text": [
      "Inverted Generational Distance: 0.028166336312971014\n"
     ]
    }
   ],
   "source": [
    "reference_front_file_path = '/home/anuj/Documents/jMetalPy/resources/reference_front/DTLZ1.3D.pf'\n",
    "reference_front = np.loadtxt(reference_front_file_path)\n",
    "solutions_array = np.array([solution.objectives for solution in front])\n",
    "inverted_generational_distance_indicator = InvertedGenerationalDistance(reference_front=reference_front)\n",
    "inverted_generational_distance = inverted_generational_distance_indicator.compute(solutions_array)\n",
    "print(f\"Inverted Generational Distance: {inverted_generational_distance}\")"
   ]
  },
  {
   "cell_type": "code",
   "execution_count": 10,
   "metadata": {},
   "outputs": [
    {
     "name": "stdout",
     "output_type": "stream",
     "text": [
      "this is front [[0.00000000e+00 2.53091422e-01 2.46908578e-01]\n",
      " [5.17837090e-01 0.00000000e+00 0.00000000e+00]\n",
      " [1.91720142e-02 5.54505008e-02 4.31054490e-01]\n",
      " [8.78172432e-02 3.66966432e-01 7.43242068e-02]\n",
      " [3.10818771e-01 1.77515491e-01 3.97277806e-02]\n",
      " [3.70630860e-01 8.63733466e-02 8.24809547e-02]\n",
      " [4.97330731e-02 3.19696620e-01 1.54476192e-01]\n",
      " [2.11223148e-01 2.63554106e-01 4.30370466e-02]\n",
      " [2.30470801e-01 2.24773678e-01 8.74393128e-02]\n",
      " [8.83527088e-03 2.75636688e-01 2.37083955e-01]\n",
      " [1.04293791e-01 4.14688578e-01 2.72214567e-02]\n",
      " [2.17416644e-01 1.20620249e-01 1.87850614e-01]\n",
      " [2.37061898e-01 1.71353952e-01 1.31443634e-01]\n",
      " [0.00000000e+00 5.08449284e-01 0.00000000e+00]\n",
      " [1.21485057e-01 3.40255693e-01 5.11572973e-02]\n",
      " [6.67585695e-02 3.95868006e-01 5.51132089e-02]\n",
      " [8.39631874e-02 3.30879497e-01 9.25687867e-02]\n",
      " [2.67777154e-01 7.22934978e-02 1.65565065e-01]\n",
      " [1.43944238e-01 3.79744650e-01 2.09772318e-02]\n",
      " [7.64823216e-03 4.24059000e-01 9.44931759e-02]\n",
      " [4.53286362e-02 3.10955842e-01 1.71992325e-01]\n",
      " [4.81457017e-01 3.32153842e-02 1.09608880e-03]\n",
      " [2.93779764e-01 1.33464831e-01 8.47379301e-02]\n",
      " [0.00000000e+00 0.00000000e+00 5.02412028e-01]\n",
      " [3.18698682e-01 3.54967194e-02 1.77292461e-01]\n",
      " [5.53208965e-02 2.86016744e-02 4.22563673e-01]\n",
      " [6.84412815e-02 3.48498847e-01 8.83277892e-02]\n",
      " [1.00212856e-01 1.94803005e-01 2.31279896e-01]\n",
      " [5.92665276e-02 2.33696102e-01 2.10948213e-01]\n",
      " [6.46763314e-02 2.91770883e-01 1.49577484e-01]\n",
      " [3.47138962e-02 9.98932266e-02 3.72457788e-01]\n",
      " [1.48209588e-01 2.86098117e-01 7.85807221e-02]\n",
      " [4.93730009e-03 5.98767961e-02 4.72291707e-01]\n",
      " [3.60582661e-01 1.46160847e-01 3.53064973e-02]\n",
      " [3.21893542e-01 1.87431683e-01 2.11984188e-02]\n",
      " [3.78919189e-01 1.52513767e-01 5.79891180e-03]\n",
      " [4.09658528e-01 2.72888751e-02 7.01707335e-02]\n",
      " [2.48266472e-03 6.49187587e-02 4.48806823e-01]\n",
      " [4.75620440e-01 4.66946096e-02 1.64637873e-02]\n",
      " [4.37587749e-01 6.13618848e-02 6.06875550e-02]\n",
      " [4.64910842e-01 1.95976299e-02 3.13086868e-02]\n",
      " [7.21969942e-02 1.14271223e-01 3.25648780e-01]\n",
      " [2.01000492e-01 2.01000492e-01 1.23165574e-01]\n",
      " [1.30582645e-01 2.95233457e-02 4.01698184e-01]\n",
      " [3.30259996e-01 7.38417272e-02 9.75824596e-02]\n",
      " [9.38614153e-02 2.59899435e-01 1.57707374e-01]\n",
      " [3.02668800e-01 2.08394166e-01 1.81187204e-02]\n",
      " [1.69510444e-01 1.58925951e-01 1.85393552e-01]\n",
      " [4.52143882e-01 1.17341859e-01 1.19148686e-02]\n",
      " [4.09880863e-02 7.59615220e-02 3.89837848e-01]\n",
      " [1.66539843e-01 1.07025433e-01 2.56347231e-01]\n",
      " [4.21172261e-01 6.97922909e-02 1.47157461e-02]\n",
      " [1.83422225e-01 1.11050379e-01 2.23912217e-01]\n",
      " [1.52597928e-01 2.75106081e-02 3.48166848e-01]\n",
      " [3.51765523e-01 9.26406414e-02 6.40490764e-02]\n",
      " [2.22827888e-02 1.02890426e-01 3.81899334e-01]\n",
      " [1.19726028e-01 1.27964894e-01 2.61188771e-01]\n",
      " [3.34738695e-01 1.64035151e-01 4.04513402e-02]\n",
      " [2.83953042e-01 1.38431224e-01 1.04692573e-01]\n",
      " [1.37092352e-01 3.93708843e-02 3.39791264e-01]\n",
      " [3.96772378e-01 1.22088018e-02 1.27825448e-01]\n",
      " [3.85739966e-01 1.51719532e-01 4.74417670e-03]\n",
      " [1.46430741e-02 7.06328647e-02 4.41496448e-01]\n",
      " [3.29889307e-02 4.06863479e-01 1.36095659e-01]\n",
      " [3.59658348e-02 3.57792248e-01 1.17563362e-01]\n",
      " [1.13247698e-01 6.80393282e-02 3.56940773e-01]\n",
      " [1.79410741e-01 4.21893279e-04 4.14639895e-01]\n",
      " [2.22783996e-01 9.60765857e-02 2.15234937e-01]\n",
      " [2.77335341e-01 2.10727949e-01 5.72619717e-02]\n",
      " [2.02321574e-02 4.53232109e-01 3.78674721e-02]\n",
      " [1.35285313e-02 4.68712299e-01 4.87343746e-02]\n",
      " [1.25256971e-01 2.04578996e-01 1.98990507e-01]\n",
      " [0.00000000e+00 4.89676922e-01 1.11898468e-01]\n",
      " [1.53026423e-01 2.77576786e-03 4.60751062e-01]\n",
      " [7.58097891e-03 1.54512254e-02 4.80142925e-01]\n",
      " [3.05489931e-02 3.04948450e-01 1.79442476e-01]\n",
      " [8.03096450e-02 1.99360769e-01 2.79670414e-01]\n",
      " [1.90223208e-01 2.07167282e-02 3.67623019e-01]\n",
      " [1.55152152e-01 1.66617429e-01 2.03527305e-01]\n",
      " [1.60851991e-01 2.20763297e-02 4.05848803e-01]\n",
      " [5.10643123e-01 0.00000000e+00 3.77555323e-03]\n",
      " [4.19685112e-03 2.42896331e-01 2.75997884e-01]\n",
      " [1.09412741e-01 4.34760700e-01 7.36290517e-03]\n",
      " [3.62738458e-02 1.58863103e-01 3.18724708e-01]\n",
      " [2.44684165e-01 4.43836058e-03 2.93955453e-01]\n",
      " [4.95072565e-01 0.00000000e+00 2.14345253e-02]\n",
      " [3.67099599e-01 0.00000000e+00 2.87974759e-01]\n",
      " [9.71881697e-02 8.17905843e-02 3.29783873e-01]\n",
      " [5.49130813e-03 2.47118076e-01 2.69452715e-01]\n",
      " [4.92868689e-02 4.39174662e-01 4.64595373e-02]\n",
      " [2.54604450e-01 1.05507165e-01 1.92708881e-01]\n",
      " [2.56615168e-02 2.15353202e-01 3.01375047e-01]\n",
      " [1.95783327e-01 7.24342594e-02 3.07187911e-01]\n",
      " [1.22392163e-02 2.71598344e-01 2.44260532e-01]\n",
      " [2.23261894e-03 5.04061957e-02 4.99076567e-01]\n",
      " [7.58084774e-02 2.19469314e-01 2.95277792e-01]\n",
      " [4.36453008e-01 6.16518426e-02 2.04008481e-02]\n",
      " [1.49562449e-01 3.02955767e-01 6.74682423e-02]\n",
      " [3.44466291e-01 1.79441363e-01 0.00000000e+00]\n",
      " [1.71278697e-02 3.84886930e-01 1.43078680e-01]]\n",
      "Additive_Epsilon: 0.05949868182885443\n"
     ]
    }
   ],
   "source": [
    "reference_front_file_path = '/home/anuj/Documents/jMetalPy/resources/reference_front/DTLZ1.3D.pf'\n",
    "reference_front = np.loadtxt(reference_front_file_path)\n",
    "solutions_array = np.array([solution.objectives for solution in front])\n",
    "epsilon_indicator = EpsilonIndicator(reference_front=reference_front)\n",
    "Additive_Epsilon = epsilon_indicator.compute(solutions_array)\n",
    "print(f\"Additive_Epsilon: {Additive_Epsilon}\")"
   ]
  },
  {
   "cell_type": "code",
   "execution_count": null,
   "metadata": {},
   "outputs": [],
   "source": []
  }
 ],
 "metadata": {
  "kernelspec": {
   "display_name": "Python 3",
   "language": "python",
   "name": "python3"
  },
  "language_info": {
   "codemirror_mode": {
    "name": "ipython",
    "version": 3
   },
   "file_extension": ".py",
   "mimetype": "text/x-python",
   "name": "python",
   "nbconvert_exporter": "python",
   "pygments_lexer": "ipython3",
   "version": "3.10.6"
  },
  "orig_nbformat": 4,
  "vscode": {
   "interpreter": {
    "hash": "916dbcbb3f70747c44a77c7bcd40155683ae19c65e1c03b4aa3499c5328201f1"
   }
  }
 },
 "nbformat": 4,
 "nbformat_minor": 2
}
