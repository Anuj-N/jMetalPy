{
 "cells": [
  {
   "cell_type": "code",
   "execution_count": 1,
   "metadata": {},
   "outputs": [],
   "source": [
    "from jmetal.algorithm.multiobjective.smpso import EMSMPSO, FCPSO_Beta, FCPSO_Omega, Chaotic_EMPSO\n",
    "# from jmetal.algorithm.multiobjective import EMSMPSO\n",
    "from jmetal.problem.multiobjective.zdt import ZDT1, ZDT2, ZDT3, ZDT4, ZDT6\n",
    "from jmetal.operator.mutation import PolynomialMutation\n",
    "from jmetal.util.archive import CrowdingDistanceArchive\n",
    "from jmetal.util.termination_criterion import StoppingByEvaluations\n",
    "problem = ZDT1()\n",
    "algo = EMSMPSO # replace with 'FCPSO_Beta' or 'FCPSO_Omega'\n",
    "# algo = Chaotic_EMPSO\n",
    "algorithm = algo(\n",
    "problem=problem,\n",
    "swarm_size=100,\n",
    "mutation=PolynomialMutation(probability=1.0/ problem.number_of_variables, distribution_index=20),\n",
    "leaders=CrowdingDistanceArchive(100),\n",
    "termination_criterion=StoppingByEvaluations(max_evaluations=20000))\n",
    "algorithm.run()"
   ]
  },
  {
   "cell_type": "code",
   "execution_count": 2,
   "metadata": {},
   "outputs": [
    {
     "name": "stderr",
     "output_type": "stream",
     "text": [
      "2023-05-02 16:20:35,985 [MainThread  ] [INFO ]  Output file (function values): FUN.NSGAII.ZDT1\n",
      "2023-05-02 16:20:35,988 [MainThread  ] [INFO ]  Output file (variables): VAR.NSGAII.ZDT1\n"
     ]
    }
   ],
   "source": [
    "from jmetal.util.solution import get_non_dominated_solutions, print_function_values_to_file ,print_variables_to_file\n",
    "\n",
    "front = get_non_dominated_solutions(algorithm.get_result())\n",
    "\n",
    "# save to files\n",
    "print_function_values_to_file(front, 'FUN.NSGAII.ZDT1')\n",
    "print_variables_to_file(front, 'VAR.NSGAII.ZDT1')"
   ]
  },
  {
   "cell_type": "code",
   "execution_count": 3,
   "metadata": {},
   "outputs": [],
   "source": [
    "from jmetal.lab.visualization import Plot\n",
    "\n",
    "plot_front = Plot(title='Pareto front approximation', axis_labels=['x', 'y'])\n",
    "plot_front.plot(front, label='NSGAII-ZDT1', filename='NSGAII-ZDT1', format='png')"
   ]
  },
  {
   "cell_type": "code",
   "execution_count": 4,
   "metadata": {},
   "outputs": [],
   "source": [
    "from jmetal.core.quality_indicator import HyperVolume, InvertedGenerationalDistance\n",
    "from jmetal.util.aggregative_function import Tschebycheff\n",
    "from jmetal.util.solution import read_solutions, print_function_values_to_file, print_variables_to_file"
   ]
  },
  {
   "cell_type": "code",
   "execution_count": 5,
   "metadata": {},
   "outputs": [],
   "source": [
    "front = algorithm.get_result()"
   ]
  },
  {
   "cell_type": "code",
   "execution_count": 6,
   "metadata": {},
   "outputs": [
    {
     "name": "stdout",
     "output_type": "stream",
     "text": [
      "Algorithm: $SMPSO\n",
      "Problem: $ZDT1\n",
      "Computing time: $2.527367115020752\n"
     ]
    }
   ],
   "source": [
    "print(f'Algorithm: ${algorithm.get_name()}')\n",
    "print(f'Problem: ${problem.get_name()}')\n",
    "print(f'Computing time: ${algorithm.total_computing_time}')"
   ]
  },
  {
   "cell_type": "code",
   "execution_count": null,
   "metadata": {},
   "outputs": [],
   "source": [
    "# test = '/home/anuj/Documents/jMetalPy/resources/reference_front/ZDT1.pf'\n",
    "# test_file = "
   ]
  },
  {
   "cell_type": "code",
   "execution_count": 1,
   "metadata": {},
   "outputs": [
    {
     "name": "stderr",
     "output_type": "stream",
     "text": [
      "2023-04-30 15:46:45,033 [MainThread  ] [INFO ]  Output file (function values): data/NSGAII/ZDT1/FUN.0.tsv\n",
      "2023-04-30 15:46:45,045 [MainThread  ] [INFO ]  Output file (variables): data/NSGAII/ZDT1/VAR.0.tsv\n",
      "2023-04-30 15:46:50,236 [MainThread  ] [INFO ]  Output file (function values): data/SMPSO/ZDT1/FUN.0.tsv\n",
      "2023-04-30 15:46:50,237 [MainThread  ] [INFO ]  Output file (variables): data/SMPSO/ZDT1/VAR.0.tsv\n"
     ]
    },
    {
     "ename": "KeyboardInterrupt",
     "evalue": "",
     "output_type": "error",
     "traceback": [
      "\u001b[0;31m---------------------------------------------------------------------------\u001b[0m",
      "\u001b[0;31mKeyboardInterrupt\u001b[0m                         Traceback (most recent call last)",
      "Cell \u001b[0;32mIn[1], line 76\u001b[0m\n\u001b[1;32m     73\u001b[0m output_directory \u001b[39m=\u001b[39m \u001b[39m'\u001b[39m\u001b[39mdata\u001b[39m\u001b[39m'\u001b[39m\n\u001b[1;32m     75\u001b[0m experiment \u001b[39m=\u001b[39m Experiment(output_dir\u001b[39m=\u001b[39moutput_directory, jobs\u001b[39m=\u001b[39mjobs)\n\u001b[0;32m---> 76\u001b[0m experiment\u001b[39m.\u001b[39;49mrun()\n\u001b[1;32m     78\u001b[0m \u001b[39m# Generate summary file\u001b[39;00m\n\u001b[1;32m     79\u001b[0m generate_summary_from_experiment(\n\u001b[1;32m     80\u001b[0m     input_dir\u001b[39m=\u001b[39moutput_directory,\n\u001b[1;32m     81\u001b[0m     reference_fronts\u001b[39m=\u001b[39m\u001b[39m'\u001b[39m\u001b[39mresources/reference_front\u001b[39m\u001b[39m'\u001b[39m,\n\u001b[1;32m     82\u001b[0m     quality_indicators\u001b[39m=\u001b[39m[GenerationalDistance(np\u001b[39m.\u001b[39marray([\u001b[39m0\u001b[39m, \u001b[39m1\u001b[39m])), EpsilonIndicator(), HyperVolume([\u001b[39m1.0\u001b[39m, \u001b[39m1.0\u001b[39m])]\n\u001b[1;32m     83\u001b[0m )\n",
      "File \u001b[0;32m~/Documents/jMetalPy/jmetal/lab/experiment.py:69\u001b[0m, in \u001b[0;36mExperiment.run\u001b[0;34m(self)\u001b[0m\n\u001b[1;32m     67\u001b[0m \u001b[39mfor\u001b[39;00m job \u001b[39min\u001b[39;00m \u001b[39mself\u001b[39m\u001b[39m.\u001b[39mjobs:\n\u001b[1;32m     68\u001b[0m     output_path \u001b[39m=\u001b[39m os\u001b[39m.\u001b[39mpath\u001b[39m.\u001b[39mjoin(\u001b[39mself\u001b[39m\u001b[39m.\u001b[39moutput_dir, job\u001b[39m.\u001b[39malgorithm_tag, job\u001b[39m.\u001b[39mproblem_tag)\n\u001b[0;32m---> 69\u001b[0m     executor\u001b[39m.\u001b[39msubmit(job\u001b[39m.\u001b[39;49mexecute(output_path))\n",
      "File \u001b[0;32m~/Documents/jMetalPy/jmetal/lab/experiment.py:38\u001b[0m, in \u001b[0;36mJob.execute\u001b[0;34m(self, output_path)\u001b[0m\n\u001b[1;32m     37\u001b[0m \u001b[39mdef\u001b[39;00m \u001b[39mexecute\u001b[39m(\u001b[39mself\u001b[39m, output_path: \u001b[39mstr\u001b[39m \u001b[39m=\u001b[39m \u001b[39m'\u001b[39m\u001b[39m'\u001b[39m):\n\u001b[0;32m---> 38\u001b[0m     \u001b[39mself\u001b[39;49m\u001b[39m.\u001b[39;49malgorithm\u001b[39m.\u001b[39;49mrun()\n\u001b[1;32m     40\u001b[0m     \u001b[39mif\u001b[39;00m output_path:\n\u001b[1;32m     41\u001b[0m         file_name \u001b[39m=\u001b[39m os\u001b[39m.\u001b[39mpath\u001b[39m.\u001b[39mjoin(output_path, \u001b[39m'\u001b[39m\u001b[39mFUN.\u001b[39m\u001b[39m{}\u001b[39;00m\u001b[39m.tsv\u001b[39m\u001b[39m'\u001b[39m\u001b[39m.\u001b[39mformat(\u001b[39mself\u001b[39m\u001b[39m.\u001b[39mrun_tag))\n",
      "File \u001b[0;32m~/Documents/jMetalPy/jmetal/core/algorithm.py:84\u001b[0m, in \u001b[0;36mAlgorithm.run\u001b[0;34m(self)\u001b[0m\n\u001b[1;32m     82\u001b[0m LOGGER\u001b[39m.\u001b[39mdebug(\u001b[39m'\u001b[39m\u001b[39mRunning main loop until termination criteria is met\u001b[39m\u001b[39m'\u001b[39m)\n\u001b[1;32m     83\u001b[0m \u001b[39mwhile\u001b[39;00m \u001b[39mnot\u001b[39;00m \u001b[39mself\u001b[39m\u001b[39m.\u001b[39mstopping_condition_is_met():\n\u001b[0;32m---> 84\u001b[0m     \u001b[39mself\u001b[39;49m\u001b[39m.\u001b[39;49mstep()\n\u001b[1;32m     85\u001b[0m     \u001b[39mself\u001b[39m\u001b[39m.\u001b[39mupdate_progress()\n\u001b[1;32m     87\u001b[0m \u001b[39mself\u001b[39m\u001b[39m.\u001b[39mtotal_computing_time \u001b[39m=\u001b[39m time\u001b[39m.\u001b[39mtime() \u001b[39m-\u001b[39m \u001b[39mself\u001b[39m\u001b[39m.\u001b[39mstart_computing_time\n",
      "File \u001b[0;32m~/Documents/jMetalPy/jmetal/core/algorithm.py:148\u001b[0m, in \u001b[0;36mEvolutionaryAlgorithm.step\u001b[0;34m(self)\u001b[0m\n\u001b[1;32m    145\u001b[0m offspring_population \u001b[39m=\u001b[39m \u001b[39mself\u001b[39m\u001b[39m.\u001b[39mreproduction(mating_population)\n\u001b[1;32m    146\u001b[0m offspring_population \u001b[39m=\u001b[39m \u001b[39mself\u001b[39m\u001b[39m.\u001b[39mevaluate(offspring_population)\n\u001b[0;32m--> 148\u001b[0m \u001b[39mself\u001b[39m\u001b[39m.\u001b[39msolutions \u001b[39m=\u001b[39m \u001b[39mself\u001b[39;49m\u001b[39m.\u001b[39;49mreplacement(\u001b[39mself\u001b[39;49m\u001b[39m.\u001b[39;49msolutions, offspring_population)\n",
      "File \u001b[0;32m~/Documents/jMetalPy/jmetal/algorithm/multiobjective/nsgaii.py:94\u001b[0m, in \u001b[0;36mNSGAII.replacement\u001b[0;34m(self, population, offspring_population)\u001b[0m\n\u001b[1;32m     91\u001b[0m density_estimator \u001b[39m=\u001b[39m CrowdingDistance()\n\u001b[1;32m     93\u001b[0m r \u001b[39m=\u001b[39m RankingAndDensityEstimatorReplacement(ranking, density_estimator, RemovalPolicyType\u001b[39m.\u001b[39mONE_SHOT)\n\u001b[0;32m---> 94\u001b[0m solutions \u001b[39m=\u001b[39m r\u001b[39m.\u001b[39;49mreplace(population, offspring_population)\n\u001b[1;32m     96\u001b[0m \u001b[39mreturn\u001b[39;00m solutions\n",
      "File \u001b[0;32m~/Documents/jMetalPy/jmetal/util/replacement.py:26\u001b[0m, in \u001b[0;36mRankingAndDensityEstimatorReplacement.replace\u001b[0;34m(self, solution_list, offspring_list)\u001b[0m\n\u001b[1;32m     23\u001b[0m \u001b[39mdef\u001b[39;00m \u001b[39mreplace\u001b[39m(\u001b[39mself\u001b[39m, solution_list: List[S], offspring_list: List[S]) \u001b[39m-\u001b[39m\u001b[39m>\u001b[39m List[S]:\n\u001b[1;32m     24\u001b[0m     join_population \u001b[39m=\u001b[39m solution_list \u001b[39m+\u001b[39m offspring_list\n\u001b[0;32m---> 26\u001b[0m     \u001b[39mself\u001b[39;49m\u001b[39m.\u001b[39;49mranking\u001b[39m.\u001b[39;49mcompute_ranking(join_population)\n\u001b[1;32m     27\u001b[0m     \u001b[39mif\u001b[39;00m \u001b[39mself\u001b[39m\u001b[39m.\u001b[39mremoval_policy \u001b[39mis\u001b[39;00m RemovalPolicyType\u001b[39m.\u001b[39mSEQUENTIAL:\n\u001b[1;32m     28\u001b[0m         result_list \u001b[39m=\u001b[39m \u001b[39mself\u001b[39m\u001b[39m.\u001b[39msequential_truncation(\u001b[39m0\u001b[39m, \u001b[39mlen\u001b[39m(solution_list))\n",
      "File \u001b[0;32m~/Documents/jMetalPy/jmetal/util/ranking.py:63\u001b[0m, in \u001b[0;36mFastNonDominatedRanking.compute_ranking\u001b[0;34m(self, solutions, k)\u001b[0m\n\u001b[1;32m     60\u001b[0m dominance_test_result \u001b[39m=\u001b[39m \u001b[39mself\u001b[39m\u001b[39m.\u001b[39mcomparator\u001b[39m.\u001b[39mcompare(solutions[p], solutions[q])\n\u001b[1;32m     61\u001b[0m \u001b[39mself\u001b[39m\u001b[39m.\u001b[39mnumber_of_comparisons \u001b[39m+\u001b[39m\u001b[39m=\u001b[39m \u001b[39m1\u001b[39m\n\u001b[0;32m---> 63\u001b[0m \u001b[39mif\u001b[39;00m dominance_test_result \u001b[39m==\u001b[39m \u001b[39m-\u001b[39m\u001b[39m1\u001b[39m:\n\u001b[1;32m     64\u001b[0m     ith_dominated[p]\u001b[39m.\u001b[39mappend(q)\n\u001b[1;32m     65\u001b[0m     dominating_ith[q] \u001b[39m+\u001b[39m\u001b[39m=\u001b[39m \u001b[39m1\u001b[39m\n",
      "\u001b[0;31mKeyboardInterrupt\u001b[0m: "
     ]
    }
   ],
   "source": [
    "from jmetal.algorithm.multiobjective.gde3 import GDE3\n",
    "from jmetal.algorithm.multiobjective.nsgaii import NSGAII\n",
    "from jmetal.algorithm.multiobjective.smpso import SMPSO\n",
    "from jmetal.core.quality_indicator import *\n",
    "from jmetal.lab.experiment import Experiment, Job, generate_summary_from_experiment\n",
    "from jmetal.operator import PolynomialMutation, SBXCrossover\n",
    "from jmetal.problem import ZDT1, ZDT2, ZDT3\n",
    "from jmetal.util.archive import CrowdingDistanceArchive\n",
    "from jmetal.util.termination_criterion import StoppingByEvaluations\n",
    "\n",
    "\n",
    "def configure_experiment(problems: dict, n_run: int):\n",
    "    jobs = []\n",
    "    max_evaluations = 25000\n",
    "\n",
    "    for run in range(n_run):\n",
    "        for problem_tag, problem in problems.items():\n",
    "            jobs.append(\n",
    "                Job(\n",
    "                    algorithm=NSGAII(\n",
    "                        problem=problem,\n",
    "                        population_size=100,\n",
    "                        offspring_population_size=100,\n",
    "                        mutation=PolynomialMutation(probability=1.0 / problem.number_of_variables,\n",
    "                                                    distribution_index=20),\n",
    "                        crossover=SBXCrossover(probability=1.0, distribution_index=20),\n",
    "                        termination_criterion=StoppingByEvaluations(max_evaluations=max_evaluations)\n",
    "                    ),\n",
    "                    algorithm_tag='NSGAII',\n",
    "                    problem_tag=problem_tag,\n",
    "                    run=run,\n",
    "                )\n",
    "            )\n",
    "            # jobs.append(\n",
    "            #     Job(\n",
    "            #         algorithm=GDE3(\n",
    "            #             problem=problem,\n",
    "            #             population_size=100,\n",
    "            #             cr=0.5,\n",
    "            #             f=0.5,\n",
    "            #             termination_criterion=StoppingByEvaluations(max_evaluations=max_evaluations)\n",
    "            #         ),\n",
    "            #         algorithm_tag='GDE3',\n",
    "            #         problem_tag=problem_tag,\n",
    "            #         run=run,\n",
    "            #     )\n",
    "            # )\n",
    "            jobs.append(\n",
    "                Job(\n",
    "                    algorithm=SMPSO(\n",
    "                        problem=problem,\n",
    "                        swarm_size=100,\n",
    "                        mutation=PolynomialMutation(probability=1.0 / problem.number_of_variables,\n",
    "                                                    distribution_index=20),\n",
    "                        leaders=CrowdingDistanceArchive(100),\n",
    "                        termination_criterion=StoppingByEvaluations(max_evaluations=max_evaluations)\n",
    "                    ),\n",
    "                    algorithm_tag='SMPSO',\n",
    "                    problem_tag=problem_tag,\n",
    "                    run=run,\n",
    "                )\n",
    "            )\n",
    "\n",
    "    return jobs\n",
    "\n",
    "\n",
    "if __name__ == '__main__':\n",
    "    # Configure the experiments\n",
    "    # jobs = configure_experiment(problems={'ZDT1': ZDT1(), 'ZDT2': ZDT2(), 'ZDT3': ZDT3()}, n_run=25)\n",
    "    jobs = configure_experiment(problems={'ZDT1': ZDT1()}, n_run=25)\n",
    "\n",
    "    # Run the study\n",
    "    output_directory = 'data'\n",
    "\n",
    "    experiment = Experiment(output_dir=output_directory, jobs=jobs)\n",
    "    experiment.run()\n",
    "\n",
    "    # Generate summary file\n",
    "    generate_summary_from_experiment(\n",
    "        input_dir=output_directory,\n",
    "        reference_fronts='resources/reference_front',\n",
    "        quality_indicators=[GenerationalDistance(), EpsilonIndicator(), HyperVolume([1.0, 1.0])]\n",
    "    )\n"
   ]
  },
  {
   "cell_type": "code",
   "execution_count": 7,
   "metadata": {},
   "outputs": [],
   "source": [
    "from jmetal.algorithm.multiobjective.gde3 import GDE3\n",
    "from jmetal.algorithm.multiobjective.nsgaii import NSGAII\n",
    "from jmetal.algorithm.multiobjective.smpso import SMPSO\n",
    "from jmetal.core.quality_indicator import *\n",
    "from jmetal.lab.experiment import Experiment, Job, generate_summary_from_experiment\n",
    "from jmetal.operator import PolynomialMutation, SBXCrossover\n",
    "from jmetal.problem import ZDT1, ZDT2, ZDT3\n",
    "from jmetal.util.archive import CrowdingDistanceArchive\n",
    "from jmetal.util.termination_criterion import StoppingByEvaluations\n"
   ]
  },
  {
   "cell_type": "code",
   "execution_count": null,
   "metadata": {},
   "outputs": [],
   "source": [
    "if __name__ == '__main__':\n",
    "\n",
    "    output_directory = 'data'\n",
    "\n",
    "    # Generate summary file\n",
    "    generate_summary_from_experiment(\n",
    "        input_dir=output_directory,\n",
    "        reference_fronts='/home/anuj/Documents/jMetalPy/resources/reference_front',\n",
    "        quality_indicators=[GenerationalDistance(), EpsilonIndicator(), HyperVolume([1.0, 1.0])]\n",
    "    )"
   ]
  },
  {
   "cell_type": "code",
   "execution_count": 9,
   "metadata": {},
   "outputs": [
    {
     "name": "stderr",
     "output_type": "stream",
     "text": [
      "2023-05-02 16:21:09,049 [MainThread  ] [WARNI]  Directory boxplot exists. Removing contents.\n"
     ]
    }
   ],
   "source": [
    "from jmetal.lab.experiment import generate_boxplot, generate_latex_tables, compute_mean_indicator, compute_wilcoxon\n",
    "from jmetal.lab.statistical_test.bayesian import *\n",
    "from jmetal.lab.statistical_test.functions import *\n",
    "from jmetal.lab.visualization import CDplot, plot_posterior\n",
    "# generate_latex_tables(filename='QualityIndicatorSummary.csv')4\n",
    "generate_boxplot(filename='QualityIndicatorSummary.csv')\n"
   ]
  },
  {
   "cell_type": "code",
   "execution_count": 2,
   "metadata": {},
   "outputs": [
    {
     "name": "stdout",
     "output_type": "stream",
     "text": [
      "        NSGAII     SMPSO\n",
      "ZDT1  0.659464  0.661815\n",
      "-------- Sign Test --------\n",
      "         Results\n",
      "Num X<Y      1.0\n",
      "Num X>Y      0.0\n",
      "p-value      0.0\n",
      "-------- Friedman Test --------\n",
      "                     Results\n",
      "Friedman-statistic  1.000000\n",
      "p-value             0.317311\n",
      "-------- Friedman Aligned Rank Test --------\n",
      "                    Results\n",
      "Aligned Rank stat  1.000000\n",
      "p-value            0.317311\n",
      "-------- Quade Test --------\n",
      "                      Results\n",
      "Quade Test statistic      inf\n",
      "p-value                   1.0\n",
      "-------- Friedman Post-Hoc Test --------\n",
      "z values \n",
      "         NSGAII  SMPSO\n",
      "NSGAII     0.0    1.0\n",
      "p-values \n",
      "         NSGAII     SMPSO\n",
      "NSGAII     1.0  0.317311\n",
      "adjusted p-values \n",
      "                  Bonferroni\n",
      "NSGAII vs SMPSO    0.317311\n",
      "-------- Friedman Aligned Rank Post-Hoc Test --------\n",
      "z values \n",
      "           NSGAII     SMPSO\n",
      "NSGAII  0.000000  1.224745\n",
      "SMPSO   1.224745  0.000000\n",
      "p-values \n",
      "           NSGAII     SMPSO\n",
      "NSGAII  1.000000  0.220671\n",
      "SMPSO   0.220671  1.000000\n",
      "adjusted p-values \n",
      "                   Shaffer\n",
      "NSGAII vs SMPSO  0.220671\n",
      "-------- QuadeTest Post-Hoc Test --------\n",
      "z values \n",
      "           NSGAII     SMPSO\n",
      "NSGAII  0.000000  1.414214\n",
      "SMPSO   1.414214  0.000000\n",
      "p-values \n",
      "           NSGAII     SMPSO\n",
      "NSGAII  1.000000  0.157299\n",
      "SMPSO   0.157299  1.000000\n",
      "adjusted p-values \n",
      "                      Holm\n",
      "NSGAII vs SMPSO  0.157299\n"
     ]
    },
    {
     "ename": "ValueError",
     "evalue": "v must be > 2 when p < .9",
     "output_type": "error",
     "traceback": [
      "\u001b[0;31m---------------------------------------------------------------------------\u001b[0m",
      "\u001b[0;31mValueError\u001b[0m                                Traceback (most recent call last)",
      "Cell \u001b[0;32mIn[2], line 40\u001b[0m\n\u001b[1;32m     36\u001b[0m \u001b[39mprint\u001b[39m(\u001b[39m'\u001b[39m\u001b[39madjusted p-values \u001b[39m\u001b[39m\\n\u001b[39;00m\u001b[39m'\u001b[39m, adj_pval)\n\u001b[1;32m     38\u001b[0m \u001b[39m# Plot critical distance\u001b[39;00m\n\u001b[0;32m---> 40\u001b[0m CDplot(avg\u001b[39m.\u001b[39;49mT, alpha\u001b[39m=\u001b[39;49m\u001b[39m0.15\u001b[39;49m, higher_is_better\u001b[39m=\u001b[39;49m\u001b[39mTrue\u001b[39;49;00m)\n\u001b[1;32m     42\u001b[0m \u001b[39mprint\u001b[39m(\u001b[39m'\u001b[39m\u001b[39m-------- Bayesian Sign Test --------\u001b[39m\u001b[39m'\u001b[39m)\n\u001b[1;32m     43\u001b[0m bst, DProcess \u001b[39m=\u001b[39m bayesian_sign_test(avg[[\u001b[39m'\u001b[39m\u001b[39mNSGAII\u001b[39m\u001b[39m'\u001b[39m, \u001b[39m'\u001b[39m\u001b[39mSMPSO\u001b[39m\u001b[39m'\u001b[39m]], rope_limits\u001b[39m=\u001b[39m[\u001b[39m-\u001b[39m\u001b[39m0.002\u001b[39m, \u001b[39m0.002\u001b[39m],\n\u001b[1;32m     44\u001b[0m                                     prior_strength\u001b[39m=\u001b[39m\u001b[39m0.5\u001b[39m, return_sample\u001b[39m=\u001b[39m\u001b[39mTrue\u001b[39;00m)\n",
      "File \u001b[0;32m~/Documents/jMetalPy/jmetal/lab/statistical_test/critical_distance.py:72\u001b[0m, in \u001b[0;36mCDplot\u001b[0;34m(results, alpha, higher_is_better, alg_names, output_filename)\u001b[0m\n\u001b[1;32m     68\u001b[0m     \u001b[39mraise\u001b[39;00m \u001b[39mValueError\u001b[39;00m(\n\u001b[1;32m     69\u001b[0m         \u001b[39m'\u001b[39m\u001b[39mInitialization ERROR: In CDplot(...) results must be 2-D array\u001b[39m\u001b[39m'\u001b[39m)\n\u001b[1;32m     71\u001b[0m \u001b[39m# Get the critical difference\u001b[39;00m\n\u001b[0;32m---> 72\u001b[0m cd \u001b[39m=\u001b[39m NemenyiCD(alpha, num_alg, num_dataset)\n\u001b[1;32m     74\u001b[0m \u001b[39m# Compute ranks. (ranks[i][j] rank of the i-th algorithm on the j-th problem.)\u001b[39;00m\n\u001b[1;32m     76\u001b[0m rranks \u001b[39m=\u001b[39m ranks(results\u001b[39m.\u001b[39mT, descending\u001b[39m=\u001b[39mhigher_is_better)\n",
      "File \u001b[0;32m~/Documents/jMetalPy/jmetal/lab/statistical_test/critical_distance.py:19\u001b[0m, in \u001b[0;36mNemenyiCD\u001b[0;34m(alpha, num_alg, num_dataset)\u001b[0m\n\u001b[1;32m     10\u001b[0m \u001b[39m\u001b[39m\u001b[39m\"\"\" Computes Nemenyi's critical difference:\u001b[39;00m\n\u001b[1;32m     11\u001b[0m \u001b[39m* CD = q_alpha * sqrt(num_alg*(num_alg + 1)/(6*num_prob))\u001b[39;00m\n\u001b[1;32m     12\u001b[0m \u001b[39mwhere q_alpha is the critical value, of the Studentized range statistic divided by sqrt(2).\u001b[39;00m\n\u001b[0;32m   (...)\u001b[0m\n\u001b[1;32m     15\u001b[0m \u001b[39m:param num_dataset: Number of problems/datasets where the algorithms have been tested.\u001b[39;00m\n\u001b[1;32m     16\u001b[0m \u001b[39m\"\"\"\u001b[39;00m\n\u001b[1;32m     18\u001b[0m \u001b[39m# get critical value\u001b[39;00m\n\u001b[0;32m---> 19\u001b[0m q_alpha \u001b[39m=\u001b[39m qsturng(p\u001b[39m=\u001b[39;49m\u001b[39m1\u001b[39;49m \u001b[39m-\u001b[39;49m alpha, r\u001b[39m=\u001b[39;49mnum_alg, v\u001b[39m=\u001b[39;49mnum_alg \u001b[39m*\u001b[39;49m (num_dataset \u001b[39m-\u001b[39;49m \u001b[39m1\u001b[39;49m)) \u001b[39m/\u001b[39m np\u001b[39m.\u001b[39msqrt(\u001b[39m2\u001b[39m)\n\u001b[1;32m     21\u001b[0m \u001b[39m# compute the critical difference\u001b[39;00m\n\u001b[1;32m     22\u001b[0m cd \u001b[39m=\u001b[39m q_alpha \u001b[39m*\u001b[39m np\u001b[39m.\u001b[39msqrt(num_alg \u001b[39m*\u001b[39m (num_alg \u001b[39m+\u001b[39m \u001b[39m1\u001b[39m) \u001b[39m/\u001b[39m (\u001b[39m6.0\u001b[39m \u001b[39m*\u001b[39m num_dataset))\n",
      "File \u001b[0;32m~/.local/lib/python3.10/site-packages/statsmodels/stats/libqsturng/qsturng_.py:791\u001b[0m, in \u001b[0;36mqsturng\u001b[0;34m(p, r, v)\u001b[0m\n\u001b[1;32m    763\u001b[0m \u001b[39m\u001b[39m\u001b[39m\"\"\"Approximates the quantile p for a studentized range\u001b[39;00m\n\u001b[1;32m    764\u001b[0m \u001b[39m   distribution having v degrees of freedom and r samples\u001b[39;00m\n\u001b[1;32m    765\u001b[0m \u001b[39m   for probability p.\u001b[39;00m\n\u001b[0;32m   (...)\u001b[0m\n\u001b[1;32m    787\u001b[0m \u001b[39m    approximation of the Studentized Range\u001b[39;00m\n\u001b[1;32m    788\u001b[0m \u001b[39m\"\"\"\u001b[39;00m\n\u001b[1;32m    790\u001b[0m \u001b[39mif\u001b[39;00m \u001b[39mall\u001b[39m(\u001b[39mmap\u001b[39m(_isfloat, [p, r, v])):\n\u001b[0;32m--> 791\u001b[0m     \u001b[39mreturn\u001b[39;00m _qsturng(p, r, v)\n\u001b[1;32m    792\u001b[0m \u001b[39mreturn\u001b[39;00m _vqsturng(p, r, v)\n",
      "File \u001b[0;32m~/.local/lib/python3.10/site-packages/statsmodels/stats/libqsturng/qsturng_.py:681\u001b[0m, in \u001b[0;36m_qsturng\u001b[0;34m(p, r, v)\u001b[0m\n\u001b[1;32m    679\u001b[0m \u001b[39mif\u001b[39;00m p \u001b[39m<\u001b[39m \u001b[39m.9\u001b[39m:\n\u001b[1;32m    680\u001b[0m     \u001b[39mif\u001b[39;00m v \u001b[39m<\u001b[39m \u001b[39m2\u001b[39m:\n\u001b[0;32m--> 681\u001b[0m         \u001b[39mraise\u001b[39;00m \u001b[39mValueError\u001b[39;00m(\u001b[39m'\u001b[39m\u001b[39mv must be > 2 when p < .9\u001b[39m\u001b[39m'\u001b[39m)\n\u001b[1;32m    682\u001b[0m \u001b[39melse\u001b[39;00m:\n\u001b[1;32m    683\u001b[0m     \u001b[39mif\u001b[39;00m v \u001b[39m<\u001b[39m \u001b[39m1\u001b[39m:\n",
      "\u001b[0;31mValueError\u001b[0m: v must be > 2 when p < .9"
     ]
    }
   ],
   "source": [
    "from jmetal.lab.experiment import generate_boxplot, generate_latex_tables, compute_mean_indicator, compute_wilcoxon\n",
    "from jmetal.lab.statistical_test.bayesian import *\n",
    "from jmetal.lab.statistical_test.functions import *\n",
    "from jmetal.lab.visualization import CDplot, plot_posterior\n",
    "\n",
    "# Statistical lab\n",
    "\n",
    "avg = compute_mean_indicator(filename='QualityIndicatorSummary.csv', indicator_name='HV')\n",
    "print(avg)\n",
    "\n",
    "# Non-parametric test\n",
    "print('-------- Sign Test --------')\n",
    "print(sign_test(avg[['NSGAII', 'SMPSO']]))\n",
    "print('-------- Friedman Test --------')\n",
    "print(friedman_test(avg))\n",
    "print('-------- Friedman Aligned Rank Test --------')\n",
    "print(friedman_aligned_rank_test(avg))\n",
    "print('-------- Quade Test --------')\n",
    "print(quade_test(avg))\n",
    "\n",
    "# Post-hoc tests\n",
    "print('-------- Friedman Post-Hoc Test --------')\n",
    "z, p_val, adj_pval = friedman_ph_test(avg, control=0, apv_procedure='Bonferroni')\n",
    "print('z values \\n', z)\n",
    "print('p-values \\n', p_val)\n",
    "print('adjusted p-values \\n', adj_pval)\n",
    "print('-------- Friedman Aligned Rank Post-Hoc Test --------')\n",
    "z, p_val, adj_pval = friedman_aligned_ph_test(avg, apv_procedure='Shaffer')\n",
    "print('z values \\n', z)\n",
    "print('p-values \\n', p_val)\n",
    "print('adjusted p-values \\n', adj_pval)\n",
    "print('-------- QuadeTest Post-Hoc Test --------')\n",
    "z, p_val, adj_pval = quade_ph_test(avg, apv_procedure='Holm')\n",
    "print('z values \\n', z)\n",
    "print('p-values \\n', p_val)\n",
    "print('adjusted p-values \\n', adj_pval)\n",
    "\n",
    "# Plot critical distance\n",
    "\n",
    "CDplot(avg.T, alpha=0.15, higher_is_better=True)\n",
    "\n",
    "print('-------- Bayesian Sign Test --------')\n",
    "bst, DProcess = bayesian_sign_test(avg[['NSGAII', 'SMPSO']], rope_limits=[-0.002, 0.002],\n",
    "                                    prior_strength=0.5, return_sample=True)\n",
    "plot_posterior(DProcess, higher_is_better=True, alg_names=['NSGAII', 'SMPSO'])\n",
    "\n",
    "print('Pr(NSGAII < SMPSO) = %.3f' % bst[0])\n",
    "print('Pr(NSGAII ~= SMPSO) = %.3f' % bst[1])\n",
    "print('Pr(NSGAII > SMPSO) = %.3f' % bst[2])\n",
    "\n",
    "print('-------- Bayesian Signed Rank Test --------')\n",
    "bst, DProcess = bayesian_signed_rank_test(avg[['NSGAII', 'SMPSO']], rope_limits=[-0.002, 0.002],\n",
    "                                            prior_strength=0.5, return_sample=True)\n",
    "plot_posterior(DProcess, higher_is_better=True, alg_names=['NSGAII', 'SMPSO'])\n",
    "\n",
    "print('Pr(NSGAII < SMPSO) = %.3f' % bst[0])\n",
    "print('Pr(NSGAII ~= SMPSO) = %.3f' % bst[1])\n",
    "print('Pr(NSGAII > SMPSO) = %.3f' % bst[2])\n"
   ]
  },
  {
   "cell_type": "code",
   "execution_count": null,
   "metadata": {},
   "outputs": [],
   "source": []
  }
 ],
 "metadata": {
  "kernelspec": {
   "display_name": "Python 3",
   "language": "python",
   "name": "python3"
  },
  "language_info": {
   "codemirror_mode": {
    "name": "ipython",
    "version": 3
   },
   "file_extension": ".py",
   "mimetype": "text/x-python",
   "name": "python",
   "nbconvert_exporter": "python",
   "pygments_lexer": "ipython3",
   "version": "3.10.6"
  },
  "orig_nbformat": 4,
  "vscode": {
   "interpreter": {
    "hash": "916dbcbb3f70747c44a77c7bcd40155683ae19c65e1c03b4aa3499c5328201f1"
   }
  }
 },
 "nbformat": 4,
 "nbformat_minor": 2
}
