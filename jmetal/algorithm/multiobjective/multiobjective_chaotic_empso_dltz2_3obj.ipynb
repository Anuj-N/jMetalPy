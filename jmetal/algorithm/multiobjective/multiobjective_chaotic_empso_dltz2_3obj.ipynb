{
 "cells": [
  {
   "cell_type": "code",
   "execution_count": 1,
   "metadata": {},
   "outputs": [],
   "source": [
    "from jmetal.algorithm.multiobjective.gde3 import GDE3\n",
    "from jmetal.algorithm.multiobjective.nsgaii import NSGAII\n",
    "from jmetal.algorithm.multiobjective.smpso import *\n",
    "from jmetal.core.quality_indicator import *\n",
    "from jmetal.lab.experiment import Experiment, Job, generate_summary_from_experiment\n",
    "from jmetal.operator import PolynomialMutation, SBXCrossover\n",
    "from jmetal.util.archive import CrowdingDistanceArchive\n",
    "from jmetal.util.termination_criterion import StoppingByEvaluations\n",
    "from jmetal.lab.experiment import generate_boxplot, generate_latex_tables, compute_mean_indicator, compute_wilcoxon\n",
    "from jmetal.lab.statistical_test.bayesian import *\n",
    "from jmetal.lab.statistical_test.functions import *\n",
    "from jmetal.lab.visualization import CDplot, plot_posterior\n",
    "from jmetal.algorithm.multiobjective import NSGAII\n",
    "from jmetal.operator import SBXCrossover, PolynomialMutation\n",
    "from jmetal.problem import DTLZ2\n",
    "from jmetal.util.termination_criterion import StoppingByEvaluations"
   ]
  },
  {
   "cell_type": "code",
   "execution_count": 2,
   "metadata": {},
   "outputs": [],
   "source": [
    "problem = DTLZ2(number_of_objectives=3)\n",
    "\n",
    "algorithm = Chaotic_EMPSO(\n",
    "    problem=problem,\n",
    "    swarm_size=100,\n",
    "    mutation=PolynomialMutation(probability=1.0 / problem.number_of_variables,\n",
    "                                distribution_index=20),\n",
    "    leaders=CrowdingDistanceArchive(100),\n",
    "    termination_criterion=StoppingByEvaluations(max_evaluations=25000)\n",
    ")\n",
    "\n",
    "algorithm.run()"
   ]
  },
  {
   "cell_type": "code",
   "execution_count": 3,
   "metadata": {},
   "outputs": [
    {
     "name": "stderr",
     "output_type": "stream",
     "text": [
      "2023-09-27 13:01:50,576 [MainThread  ] [INFO ]  Output file (function values): FUN.CHAOTIC_EMPSO.DLTZ2_3\n",
      "2023-09-27 13:01:50,578 [MainThread  ] [INFO ]  Output file (variables): VAR.CHAOTIC_EMPSO.DLTZ2_3\n"
     ]
    }
   ],
   "source": [
    "from jmetal.util.solution import get_non_dominated_solutions, print_function_values_to_file, print_variables_to_file\n",
    "\n",
    "front = get_non_dominated_solutions(algorithm.get_result())\n",
    "\n",
    "# save to files\n",
    "print_function_values_to_file(front, 'FUN.CHAOTIC_EMPSO.DLTZ2_3')\n",
    "print_variables_to_file(front, 'VAR.CHAOTIC_EMPSO.DLTZ2_3')"
   ]
  },
  {
   "cell_type": "code",
   "execution_count": 4,
   "metadata": {},
   "outputs": [],
   "source": [
    "from jmetal.lab.visualization import Plot\n",
    "# plot_front = Plot(title='Pareto front approximation', axis_labels=['x', 'y'])\n",
    "plot_front = Plot(title='Pareto front approximation', axis_labels=['x1', 'x2', 'x3'])\n",
    "plot_front.plot(front, label='CHAOTIC_EMPSO-DTLZ2_3', filename='CHAOTIC_EMPSO-DTLZ2_3', format='png')"
   ]
  },
  {
   "cell_type": "code",
   "execution_count": 5,
   "metadata": {},
   "outputs": [
    {
     "name": "stdout",
     "output_type": "stream",
     "text": [
      "Spacing: 0.11576615401612944\n"
     ]
    }
   ],
   "source": [
    "reference_front_file_path = '/home/anuj/Documents/jMetalPy/resources/reference_front/DTLZ2.3D.pf'\n",
    "reference_front = np.loadtxt(reference_front_file_path)\n",
    "solutions_array = np.array([solution.objectives for solution in front])\n",
    "spacing_indicator = Spacing(reference_front=reference_front)\n",
    "Spacing = spacing_indicator.compute(solutions_array)\n",
    "print(f\"Spacing: {Spacing}\")"
   ]
  },
  {
   "cell_type": "code",
   "execution_count": 6,
   "metadata": {},
   "outputs": [
    {
     "name": "stdout",
     "output_type": "stream",
     "text": [
      "Fitness Value: 0.622098247627477\n"
     ]
    }
   ],
   "source": [
    "fitness_indicator = FitnessValue(is_minimization=True)\n",
    "fitness_value = fitness_indicator.compute(front)\n",
    "print(f\"Fitness Value: {fitness_value}\")"
   ]
  },
  {
   "cell_type": "code",
   "execution_count": 7,
   "metadata": {},
   "outputs": [
    {
     "name": "stdout",
     "output_type": "stream",
     "text": [
      "Hypervolume: 0.11168553357277779\n"
     ]
    }
   ],
   "source": [
    "objectives = [solution.objectives for solution in front]\n",
    "# hypervolume_indicator = HyperVolume(reference_point=[1.0, 1.0])\n",
    "hypervolume_indicator = HyperVolume(reference_point=[1.0]*3)\n",
    "hypervolume =  hypervolume_indicator.compute(objectives)\n",
    "print(f\"Hypervolume: {hypervolume}\")"
   ]
  },
  {
   "cell_type": "code",
   "execution_count": 8,
   "metadata": {},
   "outputs": [
    {
     "name": "stdout",
     "output_type": "stream",
     "text": [
      "<class 'numpy.ndarray'>\n",
      "Generational Distance: 0.3473869710748223\n"
     ]
    }
   ],
   "source": [
    "reference_front_file_path = '/home/anuj/Documents/jMetalPy/resources/reference_front/DTLZ2.3D.pf'\n",
    "reference_front = np.loadtxt(reference_front_file_path)\n",
    "solutions_array = np.array([solution.objectives for solution in front])\n",
    "generational_distance_indicator = GenerationalDistance(reference_front=reference_front)\n",
    "generational_distance = generational_distance_indicator.compute(solutions_array)\n",
    "print(f\"Generational Distance: {generational_distance}\")"
   ]
  },
  {
   "cell_type": "code",
   "execution_count": 9,
   "metadata": {},
   "outputs": [
    {
     "name": "stdout",
     "output_type": "stream",
     "text": [
      "Inverted Generational Distance: 0.251308935307899\n"
     ]
    }
   ],
   "source": [
    "reference_front_file_path = '/home/anuj/Documents/jMetalPy/resources/reference_front/DTLZ2.3D.pf'\n",
    "reference_front = np.loadtxt(reference_front_file_path)\n",
    "solutions_array = np.array([solution.objectives for solution in front])\n",
    "inverted_generational_distance_indicator = InvertedGenerationalDistance(reference_front=reference_front)\n",
    "inverted_generational_distance = inverted_generational_distance_indicator.compute(solutions_array)\n",
    "print(f\"Inverted Generational Distance: {inverted_generational_distance}\")"
   ]
  },
  {
   "cell_type": "code",
   "execution_count": 10,
   "metadata": {},
   "outputs": [
    {
     "name": "stdout",
     "output_type": "stream",
     "text": [
      "this is front [[1.16941233e+00 1.25964809e+00 2.92150721e-02]\n",
      " [6.38645913e-01 5.17185216e-01 9.04571320e-01]\n",
      " [1.18457497e-01 8.29772402e-01 1.08894387e+00]\n",
      " [1.46262657e-16 2.38865047e+00 2.23044292e-01]\n",
      " [5.63777542e-01 1.35871898e+00 4.76041313e-01]\n",
      " [5.76300887e-01 8.42004429e-01 7.54128289e-01]\n",
      " [1.63326541e-01 2.25521174e-01 1.25376248e+00]\n",
      " [2.21783084e-01 1.61910217e-01 1.10966549e+00]\n",
      " [1.87732440e-01 1.90217085e-01 1.14035914e+00]\n",
      " [9.29160352e-01 1.26727959e+00 0.00000000e+00]\n",
      " [2.57667130e-01 7.00873050e-01 1.06413127e+00]\n",
      " [1.00123870e+00 7.29820028e-01 2.45308011e-01]\n",
      " [9.03992745e-01 6.54289085e-01 4.56054232e-01]\n",
      " [9.10593515e-01 6.35277642e-01 3.96241150e-01]\n",
      " [6.88617963e-01 8.06128054e-01 5.78481041e-01]\n",
      " [4.59216810e-03 1.36961816e-01 1.48646718e+00]\n",
      " [6.76913141e-01 7.58669215e-01 5.84117486e-01]\n",
      " [1.05915030e+00 5.58231051e-01 3.72677719e-01]\n",
      " [1.05914704e+00 5.58231067e-01 3.72681504e-01]\n",
      " [1.57204627e-16 2.56734640e+00 0.00000000e+00]\n",
      " [1.09757671e+00 5.78487423e-01 1.64532484e-01]\n",
      " [1.13554649e+00 4.89388910e-01 1.66622715e-01]\n",
      " [6.56871654e-01 1.36131200e-01 9.52995220e-01]\n",
      " [1.08595163e+00 4.70173299e-01 1.96066922e-01]\n",
      " [6.69265215e-01 4.89148321e-01 9.12945428e-01]\n",
      " [9.73514195e-01 1.84252195e-01 7.34840846e-01]\n",
      " [4.89642096e-01 1.17599276e-01 1.13888450e+00]\n",
      " [7.66730989e-17 1.25216673e+00 5.22021294e-01]\n",
      " [9.64453411e-02 1.41140240e+00 3.43059869e-01]\n",
      " [9.14947911e-04 1.38557526e-01 1.51600228e+00]\n",
      " [8.92822595e-01 2.11859143e-01 9.28676034e-01]\n",
      " [1.13199748e+00 4.69252518e-01 2.03057979e-01]\n",
      " [4.06303288e-01 9.98760539e-02 1.31704957e+00]\n",
      " [1.30332102e+00 5.97925677e-01 8.89061574e-02]\n",
      " [3.74020392e-01 9.19324872e-02 1.37096756e+00]\n",
      " [6.17152097e-33 1.00788586e-16 1.64600252e+00]\n",
      " [1.28478204e+00 3.23784512e-01 2.19643677e-01]\n",
      " [1.12136608e+00 2.98938396e-01 5.25879332e-01]\n",
      " [2.52396187e-01 8.86440125e-01 1.04785410e+00]\n",
      " [8.11857493e-01 7.56230469e-01 5.34057652e-01]\n",
      " [3.11073492e-01 8.57253761e-01 1.02111943e+00]\n",
      " [7.13803831e-01 1.14886553e+00 2.31947102e-01]\n",
      " [2.84941655e-01 8.12218063e-01 1.06347137e+00]\n",
      " [4.03390451e-03 1.46099176e+00 1.09546640e-04]\n",
      " [1.09992070e+00 2.79351668e-02 7.71317669e-01]\n",
      " [4.99255221e-01 6.88134598e-01 8.93476943e-01]\n",
      " [1.08636424e+00 5.06701823e-02 7.83605144e-01]\n",
      " [1.05000323e+00 2.15084324e-01 5.48753302e-01]\n",
      " [1.05324420e+00 2.37788733e-01 5.47974287e-01]\n",
      " [1.07359855e+00 7.15493033e-02 7.95514168e-01]\n",
      " [8.37470445e-01 4.87827514e-01 6.22331823e-01]\n",
      " [1.12041000e+00 3.88817078e-01 4.50612454e-01]\n",
      " [1.01047221e+00 4.40862496e-01 5.27377022e-01]\n",
      " [1.07501687e+00 4.11879131e-01 4.83093361e-01]\n",
      " [1.14177093e+00 3.78849204e-01 4.37001188e-01]\n",
      " [4.05732603e-02 2.86969175e-02 1.41689365e+00]\n",
      " [9.57572382e-17 1.82481582e-17 1.59197705e+00]\n",
      " [1.05631705e-16 0.00000000e+00 1.72509665e+00]\n",
      " [1.39757594e+00 0.00000000e+00 0.00000000e+00]\n",
      " [1.31973067e+00 1.01389592e-01 1.57526321e-01]\n",
      " [1.22743986e+00 1.89718290e-01 2.99876247e-01]\n",
      " [1.15850321e+00 2.11055608e-01 6.12634397e-01]\n",
      " [9.40680257e-01 3.35092207e-01 8.11850054e-01]\n",
      " [9.19655987e-01 4.12952999e-01 8.50083529e-01]\n",
      " [9.11929543e-01 4.49272201e-01 8.71283352e-01]\n",
      " [7.29654820e-01 1.10731382e-01 1.01878773e+00]\n",
      " [1.34448870e+00 7.26038134e-02 1.12475994e-01]\n",
      " [1.36982394e+00 4.00968188e-02 6.19890288e-02]\n",
      " [9.16109318e-01 4.28977930e-01 8.59195356e-01]\n",
      " [1.35539543e+00 5.90258608e-02 9.13491058e-02]\n",
      " [1.33430755e+00 8.48245545e-02 1.31438746e-01]\n",
      " [2.79973119e-01 1.32880519e-01 1.24488051e+00]\n",
      " [9.29012294e-17 5.08539292e-17 1.72962864e+00]\n",
      " [5.79107199e-17 9.45753829e-01 6.14085863e-01]\n",
      " [4.07227289e-02 9.40554749e-01 6.19212468e-01]\n",
      " [4.04528084e-01 1.39169524e+00 3.12119978e-01]\n",
      " [8.10323150e-02 9.34029479e-01 6.24607607e-01]\n",
      " [1.20907860e-01 9.26196213e-01 6.30279078e-01]\n",
      " [1.70923015e-01 7.87064426e-01 1.06574845e+00]\n",
      " [1.60328879e-01 9.17071626e-01 6.36234509e-01]\n",
      " [9.16411849e-17 5.11705486e-17 1.71412145e+00]\n",
      " [5.50338581e-01 3.71029811e-02 1.07133693e+00]\n",
      " [7.05775730e-02 8.78189171e-01 1.12705231e+00]\n",
      " [6.22401978e-01 6.45281114e-01 5.91400248e-01]\n",
      " [1.99280187e-01 9.06659943e-01 6.42488738e-01]\n",
      " [8.30767346e-17 5.37566518e-17 1.61601071e+00]\n",
      " [1.10781464e-01 8.36961470e-01 1.09412093e+00]\n",
      " [2.37730711e-01 8.94993322e-01 6.49036954e-01]\n",
      " [7.64858944e-17 5.68728006e-17 1.55658280e+00]\n",
      " [6.39509708e-01 6.16571100e-01 6.62409016e-01]\n",
      " [2.75664666e-01 8.82077478e-01 6.55888686e-01]\n",
      " [1.15349085e+00 7.76298410e-02 7.10889098e-01]\n",
      " [3.77365623e-03 1.46110884e+00 2.91103401e-05]\n",
      " [1.21391179e+00 8.18048481e-02 5.22214812e-01]\n",
      " [3.90731891e-01 0.00000000e+00 1.37734423e+00]\n",
      " [4.30789022e-01 0.00000000e+00 1.28205102e+00]\n",
      " [4.68801637e-01 2.23880460e-02 1.20325999e+00]\n",
      " [1.26333998e+00 5.76431323e-02 5.42848231e-01]\n",
      " [4.36687626e-01 3.17576786e-03 1.26898626e+00]\n",
      " [6.13962238e-01 4.13919642e-02 1.05427312e+00]]\n",
      "Additive_Epsilon: 0.43187424313105494\n"
     ]
    }
   ],
   "source": [
    "reference_front_file_path = '/home/anuj/Documents/jMetalPy/resources/reference_front/DTLZ2.3D.pf'\n",
    "reference_front = np.loadtxt(reference_front_file_path)\n",
    "solutions_array = np.array([solution.objectives for solution in front])\n",
    "epsilon_indicator = EpsilonIndicator(reference_front=reference_front)\n",
    "Additive_Epsilon = epsilon_indicator.compute(solutions_array)\n",
    "print(f\"Additive_Epsilon: {Additive_Epsilon}\")"
   ]
  },
  {
   "cell_type": "code",
   "execution_count": null,
   "metadata": {},
   "outputs": [],
   "source": []
  }
 ],
 "metadata": {
  "kernelspec": {
   "display_name": "Python 3",
   "language": "python",
   "name": "python3"
  },
  "language_info": {
   "codemirror_mode": {
    "name": "ipython",
    "version": 3
   },
   "file_extension": ".py",
   "mimetype": "text/x-python",
   "name": "python",
   "nbconvert_exporter": "python",
   "pygments_lexer": "ipython3",
   "version": "3.10.6"
  },
  "orig_nbformat": 4,
  "vscode": {
   "interpreter": {
    "hash": "916dbcbb3f70747c44a77c7bcd40155683ae19c65e1c03b4aa3499c5328201f1"
   }
  }
 },
 "nbformat": 4,
 "nbformat_minor": 2
}
