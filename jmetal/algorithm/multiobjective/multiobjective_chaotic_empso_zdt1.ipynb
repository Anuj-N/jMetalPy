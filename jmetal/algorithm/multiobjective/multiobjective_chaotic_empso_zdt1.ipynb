{
 "cells": [
  {
   "cell_type": "code",
   "execution_count": 1,
   "metadata": {},
   "outputs": [],
   "source": [
    "from jmetal.algorithm.multiobjective.gde3 import GDE3\n",
    "from jmetal.algorithm.multiobjective.nsgaii import NSGAII\n",
    "from jmetal.algorithm.multiobjective.smpso import *\n",
    "from jmetal.core.quality_indicator import *\n",
    "from jmetal.lab.experiment import Experiment, Job, generate_summary_from_experiment\n",
    "from jmetal.operator import PolynomialMutation, SBXCrossover\n",
    "from jmetal.problem import ZDT1, ZDT2, ZDT3\n",
    "from jmetal.util.archive import CrowdingDistanceArchive\n",
    "from jmetal.util.termination_criterion import StoppingByEvaluations\n",
    "from jmetal.lab.experiment import generate_boxplot, generate_latex_tables, compute_mean_indicator, compute_wilcoxon\n",
    "from jmetal.lab.statistical_test.bayesian import *\n",
    "from jmetal.lab.statistical_test.functions import *\n",
    "from jmetal.lab.visualization import CDplot, plot_posterior\n",
    "from jmetal.algorithm.multiobjective import NSGAII\n",
    "from jmetal.operator import SBXCrossover, PolynomialMutation\n",
    "from jmetal.problem import ZDT1\n",
    "from jmetal.util.termination_criterion import StoppingByEvaluations"
   ]
  },
  {
   "cell_type": "code",
   "execution_count": 2,
   "metadata": {},
   "outputs": [],
   "source": [
    "problem = ZDT1()\n",
    "\n",
    "algorithm = Chaotic_EMPSO(\n",
    "    problem=problem,\n",
    "    swarm_size=100,\n",
    "    mutation=PolynomialMutation(probability=1.0 / problem.number_of_variables,\n",
    "                                distribution_index=20),\n",
    "    leaders=CrowdingDistanceArchive(100),\n",
    "    termination_criterion=StoppingByEvaluations(max_evaluations=25000)\n",
    ")\n",
    "\n",
    "algorithm.run()"
   ]
  },
  {
   "cell_type": "code",
   "execution_count": 3,
   "metadata": {},
   "outputs": [
    {
     "name": "stderr",
     "output_type": "stream",
     "text": [
      "2023-09-27 13:10:12,678 [MainThread  ] [INFO ]  Output file (function values): FUN.CHAOTIC_EMPSO.ZDT1\n",
      "2023-09-27 13:10:12,688 [MainThread  ] [INFO ]  Output file (variables): VAR.CHAOTIC_EMPSO.ZDT1\n"
     ]
    }
   ],
   "source": [
    "from jmetal.util.solution import get_non_dominated_solutions, print_function_values_to_file, print_variables_to_file\n",
    "\n",
    "front = get_non_dominated_solutions(algorithm.get_result())\n",
    "\n",
    "# save to files\n",
    "print_function_values_to_file(front, 'FUN.CHAOTIC_EMPSO.ZDT1')\n",
    "print_variables_to_file(front, 'VAR.CHAOTIC_EMPSO.ZDT1')"
   ]
  },
  {
   "cell_type": "code",
   "execution_count": 4,
   "metadata": {},
   "outputs": [],
   "source": [
    "from jmetal.lab.visualization import Plot\n",
    "plot_front = Plot(title='Pareto front approximation', axis_labels=['x', 'y'])\n",
    "plot_front.plot(front, label='CHAOTIC_EMPSO-ZDT1', filename='CHAOTIC_EMPSO-ZDT1', format='png')"
   ]
  },
  {
   "cell_type": "code",
   "execution_count": 5,
   "metadata": {},
   "outputs": [
    {
     "name": "stdout",
     "output_type": "stream",
     "text": [
      "Fitness Value: 1.7358879490806314\n"
     ]
    }
   ],
   "source": [
    "fitness_indicator = FitnessValue(is_minimization=True)\n",
    "fitness_value = fitness_indicator.compute(front)\n",
    "print(f\"Fitness Value: {fitness_value}\")"
   ]
  },
  {
   "cell_type": "code",
   "execution_count": 12,
   "metadata": {},
   "outputs": [
    {
     "name": "stdout",
     "output_type": "stream",
     "text": [
      "Hypervolume: 0.0\n"
     ]
    }
   ],
   "source": [
    "objectives = [solution.objectives for solution in front]\n",
    "hypervolume_indicator = HyperVolume(reference_point=[1.0, 1.0])\n",
    "hypervolume =  hypervolume_indicator.compute(objectives)\n",
    "print(f\"Hypervolume: {hypervolume}\")"
   ]
  },
  {
   "cell_type": "code",
   "execution_count": 8,
   "metadata": {},
   "outputs": [
    {
     "name": "stdout",
     "output_type": "stream",
     "text": [
      "<class 'numpy.ndarray'>\n",
      "Generational Distance: 2.1884272622432217\n"
     ]
    }
   ],
   "source": [
    "reference_front_file_path = '/home/anuj/Documents/jMetalPy/resources/reference_front/ZDT1.pf'\n",
    "reference_front = np.loadtxt(reference_front_file_path)\n",
    "solutions_array = np.array([solution.objectives for solution in front])\n",
    "generational_distance_indicator = GenerationalDistance(reference_front=reference_front)\n",
    "generational_distance = generational_distance_indicator.compute(solutions_array)\n",
    "print(f\"Generational Distance: {generational_distance}\")"
   ]
  },
  {
   "cell_type": "code",
   "execution_count": 9,
   "metadata": {},
   "outputs": [
    {
     "name": "stdout",
     "output_type": "stream",
     "text": [
      "Spacing: 0.05088510271010282\n"
     ]
    }
   ],
   "source": [
    "reference_front_file_path = '/home/anuj/Documents/jMetalPy/resources/reference_front/ZDT1.pf'\n",
    "reference_front = np.loadtxt(reference_front_file_path)\n",
    "solutions_array = np.array([solution.objectives for solution in front])\n",
    "spacing_indicator = Spacing(reference_front=reference_front)\n",
    "Spacing = spacing_indicator.compute(solutions_array)\n",
    "print(f\"Spacing: {Spacing}\")"
   ]
  },
  {
   "cell_type": "code",
   "execution_count": 10,
   "metadata": {},
   "outputs": [
    {
     "name": "stdout",
     "output_type": "stream",
     "text": [
      "Inverted Generational Distance: 1.614510172237225\n"
     ]
    }
   ],
   "source": [
    "reference_front_file_path = '/home/anuj/Documents/jMetalPy/resources/reference_front/ZDT1.pf'\n",
    "reference_front = np.loadtxt(reference_front_file_path)\n",
    "solutions_array = np.array([solution.objectives for solution in front])\n",
    "inverted_generational_distance_indicator = InvertedGenerationalDistance(reference_front=reference_front)\n",
    "inverted_generational_distance = inverted_generational_distance_indicator.compute(solutions_array)\n",
    "print(f\"Inverted Generational Distance: {inverted_generational_distance}\")"
   ]
  },
  {
   "cell_type": "code",
   "execution_count": 11,
   "metadata": {},
   "outputs": [
    {
     "name": "stdout",
     "output_type": "stream",
     "text": [
      "this is front [[0.13933751 3.57976349]\n",
      " [0.13933345 3.57980493]\n",
      " [0.13932791 3.57986186]\n",
      " [0.08685235 3.82560678]\n",
      " [0.13930984 3.57991241]\n",
      " [0.13929456 3.57994084]\n",
      " [0.13927992 3.5799913 ]\n",
      " [0.13925184 3.58006141]\n",
      " [0.13922377 3.58013153]\n",
      " [0.13924019 3.58008961]\n",
      " [0.13923444 3.580117  ]\n",
      " [0.1392738  3.58004595]\n",
      " [0.1393227  3.57988734]\n",
      " [0.05879948 4.00547097]\n",
      " [0.         4.24297725]\n",
      " [0.01635527 4.09480664]\n",
      " [0.77752927 2.36897817]\n",
      " [0.82752412 2.21655074]\n",
      " [0.79484875 2.31070269]\n",
      " [0.7977984  2.24425155]\n",
      " [0.8004504  2.24153846]\n",
      " [0.80156091 2.23943908]\n",
      " [0.80214517 2.233081  ]\n",
      " [0.80221926 2.23209664]\n",
      " [0.80232106 2.23190459]\n",
      " [0.86002181 2.15105971]\n",
      " [0.9110169  2.02523337]\n",
      " [0.97101624 1.88119518]\n",
      " [0.80237701 2.21715538]\n",
      " [0.99340151 1.82968669]\n",
      " [0.99203266 1.83332437]\n",
      " [0.99148621 1.8459806 ]\n",
      " [0.3        3.12581243]\n",
      " [0.99148351 1.86579723]\n",
      " [0.99146797 1.86801081]\n",
      " [0.29019097 3.25652578]\n",
      " [0.13927111 3.58006069]\n",
      " [0.90211088 2.15055322]\n",
      " [0.90738815 2.14160056]\n",
      " [0.91001725 2.13714895]\n",
      " [0.1394819  3.57934829]\n",
      " [0.91029988 2.13666122]\n",
      " [0.13945839 3.57942755]\n",
      " [0.13947327 3.57937782]\n",
      " [0.13947659 3.57936629]\n",
      " [0.13947523 3.57937083]\n",
      " [0.13947943 3.57935649]\n",
      " [0.1394827  3.57934534]\n",
      " [0.17824937 3.57781538]\n",
      " [0.0892282  3.64067984]\n",
      " [0.13948594 3.57933428]\n",
      " [0.22267551 3.54938428]\n",
      " [0.13948438 3.57934062]\n",
      " [0.13948391 3.57934193]\n",
      " [0.13948637 3.5793312 ]\n",
      " [0.13948786 3.57932664]\n",
      " [0.13948935 3.57932208]\n",
      " [0.13948838 3.57932506]\n",
      " [0.13949926 3.57929315]\n",
      " [0.13949497 3.57930574]\n",
      " [0.13949228 3.57931366]\n",
      " [0.58363857 2.55782392]\n",
      " [0.33599679 3.07697631]\n",
      " [0.13949117 3.5793169 ]\n",
      " [0.13949332 3.5793106 ]\n",
      " [0.50104704 2.71022923]\n",
      " [0.42297136 2.83731948]\n",
      " [0.7392351  2.41357183]\n",
      " [0.13949972 3.57929151]\n",
      " [0.34489569 3.04459553]\n",
      " [0.13949734 3.57929856]\n",
      " [0.37393593 2.96558988]\n",
      " [0.36688722 2.98454428]\n",
      " [0.36491391 2.98987536]\n",
      " [0.36572018 2.98769577]\n",
      " [0.36640579 2.98584385]\n",
      " [0.36677587 2.98484477]\n",
      " [0.36714595 2.98384607]\n",
      " [0.13949634 3.57930155]\n",
      " [0.36696305 2.98433437]\n",
      " [0.36683545 2.98467403]\n",
      " [0.36670784 2.98501375]\n",
      " [0.36680452 2.98475941]\n",
      " [0.36688237 2.98455742]\n",
      " [0.36685497 2.98462939]\n",
      " [0.36680905 2.98474992]\n",
      " [0.36679613 2.98478383]\n",
      " [0.13953722 3.57916884]\n",
      " [0.13951717 3.57923378]\n",
      " [0.36680593 2.9847581 ]\n",
      " [0.13952654 3.57920378]\n",
      " [0.13953094 3.57918939]\n",
      " [0.36680132 2.98476925]\n",
      " [0.13953535 3.57917499]\n",
      " [0.36680272 2.98476567]\n",
      " [0.13953139 3.57918793]\n",
      " [0.13953328 3.57918174]\n",
      " [0.13953275 3.57918346]\n",
      " [0.13951455 3.57924378]\n",
      " [0.36680373 2.98476336]]\n",
      "Additive_Epsilon: 1.8296866875186355\n"
     ]
    }
   ],
   "source": [
    "reference_front_file_path = '/home/anuj/Documents/jMetalPy/resources/reference_front/ZDT1.pf'\n",
    "reference_front = np.loadtxt(reference_front_file_path)\n",
    "solutions_array = np.array([solution.objectives for solution in front])\n",
    "epsilon_indicator = EpsilonIndicator(reference_front=reference_front)\n",
    "Additive_Epsilon = epsilon_indicator.compute(solutions_array)\n",
    "print(f\"Additive_Epsilon: {Additive_Epsilon}\")"
   ]
  },
  {
   "cell_type": "code",
   "execution_count": null,
   "metadata": {},
   "outputs": [],
   "source": []
  }
 ],
 "metadata": {
  "kernelspec": {
   "display_name": "Python 3",
   "language": "python",
   "name": "python3"
  },
  "language_info": {
   "codemirror_mode": {
    "name": "ipython",
    "version": 3
   },
   "file_extension": ".py",
   "mimetype": "text/x-python",
   "name": "python",
   "nbconvert_exporter": "python",
   "pygments_lexer": "ipython3",
   "version": "3.10.6"
  },
  "orig_nbformat": 4,
  "vscode": {
   "interpreter": {
    "hash": "916dbcbb3f70747c44a77c7bcd40155683ae19c65e1c03b4aa3499c5328201f1"
   }
  }
 },
 "nbformat": 4,
 "nbformat_minor": 2
}
