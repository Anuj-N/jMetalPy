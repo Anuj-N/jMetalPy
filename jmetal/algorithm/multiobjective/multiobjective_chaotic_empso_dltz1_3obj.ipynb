{
 "cells": [
  {
   "cell_type": "code",
   "execution_count": 1,
   "metadata": {},
   "outputs": [],
   "source": [
    "from jmetal.algorithm.multiobjective.gde3 import GDE3\n",
    "from jmetal.algorithm.multiobjective.nsgaii import NSGAII\n",
    "from jmetal.algorithm.multiobjective.smpso import *\n",
    "from jmetal.core.quality_indicator import *\n",
    "from jmetal.lab.experiment import Experiment, Job, generate_summary_from_experiment\n",
    "from jmetal.operator import PolynomialMutation, SBXCrossover\n",
    "from jmetal.util.archive import CrowdingDistanceArchive\n",
    "from jmetal.util.termination_criterion import StoppingByEvaluations\n",
    "from jmetal.lab.experiment import generate_boxplot, generate_latex_tables, compute_mean_indicator, compute_wilcoxon\n",
    "from jmetal.lab.statistical_test.bayesian import *\n",
    "from jmetal.lab.statistical_test.functions import *\n",
    "from jmetal.lab.visualization import CDplot, plot_posterior\n",
    "from jmetal.algorithm.multiobjective import NSGAII\n",
    "from jmetal.operator import SBXCrossover, PolynomialMutation\n",
    "from jmetal.problem import DTLZ1\n",
    "from jmetal.util.termination_criterion import StoppingByEvaluations"
   ]
  },
  {
   "cell_type": "code",
   "execution_count": 2,
   "metadata": {},
   "outputs": [],
   "source": [
    "problem = DTLZ1(number_of_objectives=3)\n",
    "\n",
    "algorithm = Chaotic_EMPSO(\n",
    "    problem=problem,\n",
    "    swarm_size=100,\n",
    "    mutation=PolynomialMutation(probability=1.0 / problem.number_of_variables,\n",
    "                                distribution_index=20),\n",
    "    leaders=CrowdingDistanceArchive(100),\n",
    "    termination_criterion=StoppingByEvaluations(max_evaluations=25000)\n",
    ")\n",
    "\n",
    "algorithm.run()"
   ]
  },
  {
   "cell_type": "code",
   "execution_count": 3,
   "metadata": {},
   "outputs": [
    {
     "name": "stderr",
     "output_type": "stream",
     "text": [
      "2023-09-27 11:10:21,628 [MainThread  ] [INFO ]  Output file (function values): FUN.CHAOTIC_EMPSO.DLTZ1_3\n",
      "2023-09-27 11:10:21,629 [MainThread  ] [INFO ]  Output file (variables): VAR.CHAOTIC_EMPSO.DLTZ1_3\n"
     ]
    }
   ],
   "source": [
    "from jmetal.util.solution import get_non_dominated_solutions, print_function_values_to_file, print_variables_to_file\n",
    "\n",
    "front = get_non_dominated_solutions(algorithm.get_result())\n",
    "\n",
    "# save to files\n",
    "print_function_values_to_file(front, 'FUN.CHAOTIC_EMPSO.DLTZ1_3')\n",
    "print_variables_to_file(front, 'VAR.CHAOTIC_EMPSO.DLTZ1_3')"
   ]
  },
  {
   "cell_type": "code",
   "execution_count": 4,
   "metadata": {},
   "outputs": [],
   "source": [
    "from jmetal.lab.visualization import Plot\n",
    "# plot_front = Plot(title='Pareto front approximation', axis_labels=['x', 'y'])\n",
    "plot_front = Plot(title='Pareto front approximation', axis_labels=['x1', 'x2', 'x3'])\n",
    "plot_front.plot(front, label='CHAOTIC_EMPSO-DTLZ1_3', filename='CHAOTIC_EMPSO-DTLZ1_3', format='png')"
   ]
  },
  {
   "cell_type": "code",
   "execution_count": 6,
   "metadata": {},
   "outputs": [
    {
     "name": "stdout",
     "output_type": "stream",
     "text": [
      "Spacing: 7.823262827084495\n"
     ]
    }
   ],
   "source": [
    "reference_front_file_path = '/home/anuj/Documents/jMetalPy/resources/reference_front/DTLZ1.3D.pf'\n",
    "reference_front = np.loadtxt(reference_front_file_path)\n",
    "solutions_array = np.array([solution.objectives for solution in front])\n",
    "spacing_indicator = Spacing(reference_front=reference_front)\n",
    "Spacing = spacing_indicator.compute(solutions_array)\n",
    "print(f\"Spacing: {Spacing}\")"
   ]
  },
  {
   "cell_type": "code",
   "execution_count": 7,
   "metadata": {},
   "outputs": [
    {
     "name": "stdout",
     "output_type": "stream",
     "text": [
      "Fitness Value: 16.900306693658315\n"
     ]
    }
   ],
   "source": [
    "fitness_indicator = FitnessValue(is_minimization=True)\n",
    "fitness_value = fitness_indicator.compute(front)\n",
    "print(f\"Fitness Value: {fitness_value}\")"
   ]
  },
  {
   "cell_type": "code",
   "execution_count": 14,
   "metadata": {},
   "outputs": [
    {
     "name": "stdout",
     "output_type": "stream",
     "text": [
      "Hypervolume: 0.0\n"
     ]
    }
   ],
   "source": [
    "objectives = [solution.objectives for solution in front]\n",
    "# hypervolume_indicator = HyperVolume(reference_point=[1.0, 1.0])\n",
    "hypervolume_indicator = HyperVolume(reference_point=[1.0]*3)\n",
    "hypervolume =  hypervolume_indicator.compute(objectives)\n",
    "print(f\"Hypervolume: {hypervolume}\")"
   ]
  },
  {
   "cell_type": "code",
   "execution_count": 9,
   "metadata": {},
   "outputs": [
    {
     "name": "stdout",
     "output_type": "stream",
     "text": [
      "<class 'numpy.ndarray'>\n",
      "Generational Distance: 41.29418412581759\n"
     ]
    }
   ],
   "source": [
    "reference_front_file_path = '/home/anuj/Documents/jMetalPy/resources/reference_front/DTLZ1.3D.pf'\n",
    "reference_front = np.loadtxt(reference_front_file_path)\n",
    "solutions_array = np.array([solution.objectives for solution in front])\n",
    "generational_distance_indicator = GenerationalDistance(reference_front=reference_front)\n",
    "generational_distance = generational_distance_indicator.compute(solutions_array)\n",
    "print(f\"Generational Distance: {generational_distance}\")"
   ]
  },
  {
   "cell_type": "code",
   "execution_count": 10,
   "metadata": {},
   "outputs": [
    {
     "name": "stdout",
     "output_type": "stream",
     "text": [
      "Inverted Generational Distance: 16.14303768974126\n"
     ]
    }
   ],
   "source": [
    "reference_front_file_path = '/home/anuj/Documents/jMetalPy/resources/reference_front/DTLZ1.3D.pf'\n",
    "reference_front = np.loadtxt(reference_front_file_path)\n",
    "solutions_array = np.array([solution.objectives for solution in front])\n",
    "inverted_generational_distance_indicator = InvertedGenerationalDistance(reference_front=reference_front)\n",
    "inverted_generational_distance = inverted_generational_distance_indicator.compute(solutions_array)\n",
    "print(f\"Inverted Generational Distance: {inverted_generational_distance}\")"
   ]
  },
  {
   "cell_type": "code",
   "execution_count": 11,
   "metadata": {},
   "outputs": [
    {
     "name": "stdout",
     "output_type": "stream",
     "text": [
      "this is front [[1.30314883e+00 5.50349470e+00 1.54262371e+01]\n",
      " [0.00000000e+00 2.39763507e+01 4.74935074e+01]\n",
      " [0.00000000e+00 3.11113460e+01 3.51907632e+01]\n",
      " [9.02381573e+00 4.08537295e-02 2.40668891e+01]\n",
      " [5.99701774e+01 8.25298915e+00 1.45946496e+00]\n",
      " [6.12129859e+01 8.42537019e+00 7.52399721e-02]\n",
      " [6.12235129e+01 0.00000000e+00 0.00000000e+00]\n",
      " [0.00000000e+00 0.00000000e+00 5.14220746e+01]\n",
      " [0.00000000e+00 5.25214859e+01 0.00000000e+00]\n",
      " [9.72835081e+00 1.45925263e+01 8.20724677e+00]\n",
      " [1.57886092e+01 0.00000000e+00 4.91682143e+01]\n",
      " [2.16418068e+00 2.51354520e+00 4.28578026e+01]\n",
      " [8.38784110e+00 4.69310803e-01 2.34852044e+01]\n",
      " [6.20840574e-01 1.37222050e+01 4.51965942e+01]\n",
      " [5.16588168e+00 4.38349091e+01 3.40542658e+00]\n",
      " [5.76596542e+00 1.44150218e+00 2.88294275e+01]\n",
      " [2.89495907e+01 7.07118069e+00 8.79842303e+00]\n",
      " [2.87684502e+01 7.11329840e+00 8.87032662e+00]]\n",
      "Additive_Epsilon: 14.592526311098952\n"
     ]
    }
   ],
   "source": [
    "reference_front_file_path = '/home/anuj/Documents/jMetalPy/resources/reference_front/DTLZ1.3D.pf'\n",
    "reference_front = np.loadtxt(reference_front_file_path)\n",
    "solutions_array = np.array([solution.objectives for solution in front])\n",
    "epsilon_indicator = EpsilonIndicator(reference_front=reference_front)\n",
    "Additive_Epsilon = epsilon_indicator.compute(solutions_array)\n",
    "print(f\"Additive_Epsilon: {Additive_Epsilon}\")"
   ]
  },
  {
   "cell_type": "code",
   "execution_count": null,
   "metadata": {},
   "outputs": [],
   "source": []
  }
 ],
 "metadata": {
  "kernelspec": {
   "display_name": "Python 3",
   "language": "python",
   "name": "python3"
  },
  "language_info": {
   "codemirror_mode": {
    "name": "ipython",
    "version": 3
   },
   "file_extension": ".py",
   "mimetype": "text/x-python",
   "name": "python",
   "nbconvert_exporter": "python",
   "pygments_lexer": "ipython3",
   "version": "3.10.6"
  },
  "orig_nbformat": 4,
  "vscode": {
   "interpreter": {
    "hash": "916dbcbb3f70747c44a77c7bcd40155683ae19c65e1c03b4aa3499c5328201f1"
   }
  }
 },
 "nbformat": 4,
 "nbformat_minor": 2
}
